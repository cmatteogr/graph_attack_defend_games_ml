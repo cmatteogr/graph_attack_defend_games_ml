{
 "cells": [
  {
   "cell_type": "markdown",
   "id": "5ddc9a0b265be34a",
   "metadata": {},
   "source": [
    "# Community detection in Graphs\n",
    "\n",
    "We will explore the different community detection algorithms in graphs. \n",
    "\n",
    "Not all fo them fit with our problem requirements, we will focus on the algorithms which fit the following requirements\n",
    "* Directed edges.\n",
    "* Homogeneous nodes. \n",
    "* Possible Weighted relationships (in the future).\n",
    "\n",
    "The algorithms which fit the requirements are:\n",
    "* Conductance metric\n",
    "* K-1 Coloring\n",
    "* Label Propagation\n",
    "* Louvain\n",
    "* Modularity metric\n",
    "* Modularity Optimization\n",
    "* Strongly Connected Components\n",
    "* Weakly Connected Components\n",
    "\n",
    "We will use an additional approach after embedding the graph, we have use Node2Vector and DeepWalk\n",
    "* K-Means\n",
    "* DBSCAN\n",
    "\n",
    "We will explore each one of them, how they work, their advantages and disadvantages and when to use them. \n",
    "\n",
    "Check this documentation to understand and explore the Community Detection algorithms:\n",
    "https://neo4j.com/docs/graph-data-science/current/algorithms/community/"
   ]
  },
  {
   "cell_type": "markdown",
   "id": "4a3bed74a874eb43",
   "metadata": {},
   "source": [
    "### Conductance metric "
   ]
  },
  {
   "cell_type": "markdown",
   "id": "79fa37e39b65f4f6",
   "metadata": {},
   "source": [
    "### K-Means Clustering for Community Detection \n",
    "Read the embedding graph and apply clustering with cuML (RAPIDS) to use GPU"
   ]
  },
  {
   "cell_type": "code",
   "execution_count": 1,
   "id": "4208fdce4511d705",
   "metadata": {
    "ExecuteTime": {
     "end_time": "2024-10-09T22:18:42.869370Z",
     "start_time": "2024-10-09T22:18:41.728089Z"
    }
   },
   "outputs": [],
   "source": [
    "import torch"
   ]
  },
  {
   "metadata": {},
   "cell_type": "code",
   "outputs": [],
   "execution_count": null,
   "source": [
    "# Read embedding representation\n",
    "node2vector_embeddings_filepath = 'node2vector_embeddings.pt'\n",
    "node2vector_embeddings = torch.load(node2vector_embeddings_filepath, weights_only=True)\n",
    "node2vector_embeddings = node2vector_embeddings.cpu().numpy()"
   ],
   "id": "29da6647b22c693d"
  },
  {
   "metadata": {},
   "cell_type": "code",
   "outputs": [],
   "execution_count": null,
   "source": [
    "# Init k-means clustering\n",
    "from sklearn.cluster import KMeans"
   ],
   "id": "6b85806358fe5d62"
  },
  {
   "metadata": {},
   "cell_type": "code",
   "outputs": [],
   "execution_count": null,
   "source": [
    "n_clusters = 100  # N Clusters\n",
    "\n",
    "kmeans_model = KMeans(\n",
    "    n_clusters=n_clusters,\n",
    "    max_iter=300,\n",
    "    tol=1e-4,\n",
    "    random_state=42\n",
    ")\n",
    "\n",
    "\n",
    "kmeans_model.fit(node2vector_embeddings)\n",
    "\n",
    "labels = kmeans_model.labels_\n",
    "print(labels)"
   ],
   "id": "d9f72fdc3ab6d3a2"
  },
  {
   "metadata": {},
   "cell_type": "code",
   "outputs": [],
   "execution_count": null,
   "source": "labels",
   "id": "65403ab776ca206e"
  },
  {
   "metadata": {},
   "cell_type": "code",
   "outputs": [],
   "execution_count": null,
   "source": "len(labels)",
   "id": "b32065c90148d94d"
  },
  {
   "cell_type": "code",
   "execution_count": 7,
   "id": "e9ee6266-a6ec-40a3-be9b-d895ac9ebcbd",
   "metadata": {},
   "outputs": [
    {
     "data": {
      "text/plain": [
       "19129"
      ]
     },
     "execution_count": 7,
     "metadata": {},
     "output_type": "execute_result"
    }
   ],
   "source": [
    "len(labels)"
   ]
  },
  {
   "cell_type": "code",
   "execution_count": null,
   "id": "cf53a6b2-c472-49e2-984a-b540d7d8fefe",
   "metadata": {},
   "outputs": [],
   "source": []
  }
 ],
 "metadata": {
  "kernelspec": {
   "display_name": "Python 3 (ipykernel)",
   "language": "python",
   "name": "python3"
  },
  "language_info": {
   "codemirror_mode": {
    "name": "ipython",
    "version": 3
   },
   "file_extension": ".py",
   "mimetype": "text/x-python",
   "name": "python",
   "nbconvert_exporter": "python",
   "pygments_lexer": "ipython3",
   "version": "3.10.15"
  }
 },
 "nbformat": 4,
 "nbformat_minor": 5
}
