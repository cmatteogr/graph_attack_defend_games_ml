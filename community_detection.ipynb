{
 "cells": [
  {
   "metadata": {},
   "cell_type": "markdown",
   "source": [
    "# Community detection in Graphs\n",
    "\n",
    "We will explore the different community detection algorithms in graphs. \n",
    "\n",
    "Not all fo them fit with our problem requirements, we will focus on the algorithms which fit the following requirements\n",
    "* Directed edges.\n",
    "* Homogeneous nodes. \n",
    "* Possible Weighted relationships (in the future).\n",
    "\n",
    "The algorithms which fit the requirements are:\n",
    "* Conductance metric\n",
    "* K-1 Coloring\n",
    "* Label Propagation\n",
    "* Louvain\n",
    "* Modularity metric\n",
    "* Modularity Optimization\n",
    "* Strongly Connected Components\n",
    "* Weakly Connected Components\n",
    "\n",
    "We will use an additional approach after embedding the graph, we have use Node2Vector and DeepWalk\n",
    "* K-Means\n",
    "* DBSCAN\n",
    "\n",
    "We will explore each one of them, how they work, their advantages and disadvantages and when to use them. \n",
    "\n",
    "Check this documentation to understand and explore the Community Detection algorithms:\n",
    "https://neo4j.com/docs/graph-data-science/current/algorithms/community/"
   ],
   "id": "5ddc9a0b265be34a"
  },
  {
   "metadata": {},
   "cell_type": "markdown",
   "source": "### Conductance metric ",
   "id": "4a3bed74a874eb43"
  },
  {
   "metadata": {},
   "cell_type": "markdown",
   "source": [
    "### K-Means Clustering for Community Detection \n",
    "Read the embedding graph and apply clustering with cuML (RAPIDS) to use GPU"
   ],
   "id": "79fa37e39b65f4f6"
  },
  {
   "metadata": {
    "ExecuteTime": {
     "end_time": "2024-10-09T17:38:42.868818Z",
     "start_time": "2024-10-09T17:38:40.132199Z"
    }
   },
   "cell_type": "code",
   "source": "import torch",
   "id": "4208fdce4511d705",
   "outputs": [],
   "execution_count": 2
  },
  {
   "cell_type": "code",
   "id": "initial_id",
   "metadata": {
    "collapsed": true,
    "ExecuteTime": {
     "end_time": "2024-10-09T17:38:43.476Z",
     "start_time": "2024-10-09T17:38:42.873821Z"
    }
   },
   "source": [
    "# Read embedding representation\n",
    "node2vector_embeddings_filepath = 'node2vector_embeddings.pt'\n",
    "node2vector_embeddings = torch.load(node2vector_embeddings_filepath, weights_only=True)\n",
    "node2vector_embeddings"
   ],
   "outputs": [
    {
     "data": {
      "text/plain": [
       "tensor([[-0.1104,  0.1179, -0.0875],\n",
       "        [-0.0621,  0.1049, -0.2224],\n",
       "        [-0.0053,  0.1343, -0.0652],\n",
       "        ...,\n",
       "        [-0.1721,  0.1979, -0.1593],\n",
       "        [-0.1009,  0.2103, -0.1458],\n",
       "        [-0.2406,  0.1375, -0.0170]], device='cuda:0')"
      ]
     },
     "execution_count": 3,
     "metadata": {},
     "output_type": "execute_result"
    }
   ],
   "execution_count": 3
  },
  {
   "metadata": {
    "ExecuteTime": {
     "end_time": "2024-10-09T17:39:03.492386Z",
     "start_time": "2024-10-09T17:39:03.489961Z"
    }
   },
   "cell_type": "code",
   "source": "# Init k-means clustering",
   "id": "6d698e3201613d57",
   "outputs": [],
   "execution_count": 4
  },
  {
   "metadata": {},
   "cell_type": "code",
   "outputs": [],
   "execution_count": null,
   "source": "",
   "id": "992ff0db3fecc7e0"
  }
 ],
 "metadata": {
  "kernelspec": {
   "display_name": "Python 3",
   "language": "python",
   "name": "python3"
  },
  "language_info": {
   "codemirror_mode": {
    "name": "ipython",
    "version": 2
   },
   "file_extension": ".py",
   "mimetype": "text/x-python",
   "name": "python",
   "nbconvert_exporter": "python",
   "pygments_lexer": "ipython2",
   "version": "2.7.6"
  }
 },
 "nbformat": 4,
 "nbformat_minor": 5
}
