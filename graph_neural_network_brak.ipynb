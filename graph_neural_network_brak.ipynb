{
 "cells": [
  {
   "metadata": {},
   "cell_type": "markdown",
   "source": [
    "# Graph Neural Network\n",
    "\n",
    "Build a Graph Neural Network. "
   ],
   "id": "badee003c80c493"
  },
  {
   "metadata": {
    "ExecuteTime": {
     "end_time": "2024-11-14T01:07:59.408879Z",
     "start_time": "2024-11-14T01:07:59.404091Z"
    }
   },
   "cell_type": "code",
   "source": [
    "# import libraries\n",
    "import os.path as osp\n",
    "import time\n",
    "\n",
    "import torch\n",
    "import torch.nn.functional as F\n",
    "from torch.nn import Parameter\n",
    "from tqdm import tqdm\n",
    "\n",
    "from torch_geometric.datasets import RelLinkPredDataset\n",
    "from torch_geometric.nn import GAE, GCNConv\n",
    "import torch\n",
    "from torch_geometric.nn import NNConv\n",
    "from sklearn.metrics import roc_auc_score\n",
    "from torch_geometric.utils import negative_sampling"
   ],
   "id": "c881c0ff3902d8bc",
   "outputs": [],
   "execution_count": 11
  },
  {
   "metadata": {},
   "cell_type": "markdown",
   "source": "Define the device to use",
   "id": "8afd72bc2e2965a9"
  },
  {
   "metadata": {
    "ExecuteTime": {
     "end_time": "2024-11-14T01:08:00.190077Z",
     "start_time": "2024-11-14T01:08:00.186595Z"
    }
   },
   "cell_type": "code",
   "source": [
    "device = torch.device('cuda' if torch.cuda.is_available() else 'cpu')\n",
    "# device = 'cpu'\n",
    "print('device:', device)"
   ],
   "id": "8176094028222874",
   "outputs": [
    {
     "name": "stdout",
     "output_type": "stream",
     "text": [
      "device: cuda\n"
     ]
    }
   ],
   "execution_count": 12
  },
  {
   "metadata": {
    "ExecuteTime": {
     "end_time": "2024-11-14T01:08:00.819583Z",
     "start_time": "2024-11-14T01:08:00.668676Z"
    }
   },
   "cell_type": "code",
   "source": [
    "server_graph_data_filepath = './data/server_graph_data.pth'\n",
    "graph_data = torch.load(server_graph_data_filepath)\n",
    "graph_data"
   ],
   "id": "3d0a15978117ad47",
   "outputs": [
    {
     "name": "stderr",
     "output_type": "stream",
     "text": [
      "C:\\Users\\PC\\AppData\\Local\\Temp\\ipykernel_26124\\1308253879.py:2: FutureWarning: You are using `torch.load` with `weights_only=False` (the current default value), which uses the default pickle module implicitly. It is possible to construct malicious pickle data which will execute arbitrary code during unpickling (See https://github.com/pytorch/pytorch/blob/main/SECURITY.md#untrusted-models for more details). In a future release, the default value for `weights_only` will be flipped to `True`. This limits the functions that could be executed during unpickling. Arbitrary objects will no longer be allowed to be loaded via this mode unless they are explicitly allowlisted by the user via `torch.serialization.add_safe_globals`. We recommend you start setting `weights_only=True` for any use case where you don't have full control of the loaded file. Please open an issue on GitHub for any issues related to this experimental feature.\n",
      "  graph_data = torch.load(server_graph_data_filepath)\n"
     ]
    },
    {
     "data": {
      "text/plain": [
       "Data(edge_index=[2, 2830503], edge_attr=[2830503, 47], num_nodes=19129)"
      ]
     },
     "execution_count": 13,
     "metadata": {},
     "output_type": "execute_result"
    }
   ],
   "execution_count": 13
  },
  {
   "metadata": {
    "ExecuteTime": {
     "end_time": "2024-11-14T01:08:01.205251Z",
     "start_time": "2024-11-14T01:08:01.199056Z"
    }
   },
   "cell_type": "code",
   "source": [
    "class Net(torch.nn.Module):\n",
    "    def __init__(self, num_nodes, edge_feature_dim, hidden_channels, out_channels):\n",
    "        super().__init__()\n",
    "        # Learnable node embeddings\n",
    "        self.embedding = torch.nn.Embedding(num_nodes, hidden_channels)\n",
    "\n",
    "        # Neural networks for edge feature transformation\n",
    "        nn1 = torch.nn.Sequential(\n",
    "            torch.nn.Linear(edge_feature_dim, hidden_channels * hidden_channels)\n",
    "        )\n",
    "        self.conv1 = NNConv(\n",
    "            in_channels=hidden_channels,\n",
    "            out_channels=hidden_channels,\n",
    "            nn=nn1,\n",
    "            aggr='mean'  # Aggregation method: 'add', 'mean', 'max'\n",
    "        )\n",
    "\n",
    "        nn2 = torch.nn.Sequential(\n",
    "            torch.nn.Linear(edge_feature_dim, hidden_channels * out_channels)\n",
    "        )\n",
    "        self.conv2 = NNConv(\n",
    "            in_channels=hidden_channels,\n",
    "            out_channels=out_channels,\n",
    "            nn=nn2,\n",
    "            aggr='mean'\n",
    "        )\n",
    "\n",
    "    def encode(self, edge_index, edge_attr):\n",
    "        # Initialize node features as embeddings\n",
    "        x = self.embedding.weight  # Shape: [num_nodes, hidden_channels]\n",
    "\n",
    "        # First NNConv layer with ReLU activation\n",
    "        x = self.conv1(x, edge_index, edge_attr).relu()\n",
    "\n",
    "        # Second NNConv layer\n",
    "        x = self.conv2(x, edge_index, edge_attr)\n",
    "\n",
    "        return x  # Node embeddings\n",
    "\n",
    "    def decode(self, z, edge_label_index):\n",
    "        # Similarity scores for edge pairs\n",
    "        return (z[edge_label_index[0]] * z[edge_label_index[1]]).sum(dim=-1)\n",
    "\n",
    "    def decode_all(self, z):\n",
    "        # Predict all possible edges (may be memory-intensive for large graphs)\n",
    "        prob_adj = z @ z.t()\n",
    "        return (prob_adj > 0).nonzero(as_tuple=False).t()"
   ],
   "id": "318a89be5169a9b5",
   "outputs": [],
   "execution_count": 14
  },
  {
   "metadata": {
    "ExecuteTime": {
     "end_time": "2024-11-14T01:08:03.586848Z",
     "start_time": "2024-11-14T01:08:01.656533Z"
    }
   },
   "cell_type": "code",
   "source": [
    "\n",
    "# Assume 'data' is your graph data object\n",
    "# Move data to device\n",
    "edge_index = graph_data.edge_index.to(device)\n",
    "edge_attr = graph_data.edge_attr.to(device)\n",
    "num_nodes = graph_data.num_nodes\n",
    "\n",
    "# Positive edge indices (existing edges)\n",
    "pos_edge_index = edge_index\n",
    "\n",
    "# Negative edge indices (non-existing edges)\n",
    "neg_edge_index = negative_sampling(\n",
    "    edge_index=edge_index,\n",
    "    num_nodes=num_nodes,\n",
    "    num_neg_samples=pos_edge_index.size(1),\n",
    "    method='sparse'\n",
    ").to(device)"
   ],
   "id": "4b0d24fcd6432254",
   "outputs": [],
   "execution_count": 15
  },
  {
   "metadata": {
    "ExecuteTime": {
     "end_time": "2024-11-14T01:08:03.593852Z",
     "start_time": "2024-11-14T01:08:03.590853Z"
    }
   },
   "cell_type": "code",
   "source": [
    "# Combine positive and negative samples\n",
    "edge_label_index = torch.cat([pos_edge_index, neg_edge_index], dim=1).to(device)\n",
    "\n",
    "# Create edge labels: 1 for positive edges, 0 for negative edges\n",
    "edge_label = torch.cat([\n",
    "    torch.ones(pos_edge_index.size(1), device=device),\n",
    "    torch.zeros(neg_edge_index.size(1), device=device)\n",
    "])"
   ],
   "id": "d143e0ed69fcb510",
   "outputs": [],
   "execution_count": 16
  },
  {
   "metadata": {
    "ExecuteTime": {
     "end_time": "2024-11-14T01:08:04.343377Z",
     "start_time": "2024-11-14T01:08:04.322276Z"
    }
   },
   "cell_type": "code",
   "source": [
    "\n",
    "# Instantiate the model and move it to device\n",
    "hidden_channels = 32  # Hyperparameter\n",
    "out_channels = 32     # Embedding size\n",
    "edge_feature_dim = graph_data.edge_attr.size(1)  # 47 in your case\n",
    "\n",
    "model = Net(num_nodes, edge_feature_dim, hidden_channels, out_channels).to(device)\n",
    "optimizer = torch.optim.Adam(model.parameters(), lr=0.01)\n",
    "criterion = torch.nn.BCEWithLogitsLoss()"
   ],
   "id": "6778d574b2a3815",
   "outputs": [],
   "execution_count": 17
  },
  {
   "metadata": {
    "jupyter": {
     "is_executing": true
    },
    "ExecuteTime": {
     "start_time": "2024-11-14T01:17:44.290676Z"
    }
   },
   "cell_type": "code",
   "source": [
    "# Training process\n",
    "model.train()\n",
    "epochs = 1000  # Adjust the number of epochs as needed\n",
    "for epoch in range(epochs):\n",
    "    optimizer.zero_grad()\n",
    "\n",
    "    # Encode node embeddings\n",
    "    z = model.encode(edge_index, edge_attr)\n",
    "\n",
    "    # Decode edge scores\n",
    "    edge_scores = model.decode(z, edge_label_index).view(-1)\n",
    "\n",
    "    # Compute loss\n",
    "    loss = criterion(edge_scores, edge_label)\n",
    "\n",
    "    # Backpropagation\n",
    "    loss.backward()\n",
    "    optimizer.step()\n",
    "\n",
    "    print(f'Epoch {epoch+1}/{epochs}, Loss: {loss.item():.4f}')"
   ],
   "id": "738d879dcdab508c",
   "outputs": [],
   "execution_count": null
  },
  {
   "metadata": {
    "ExecuteTime": {
     "end_time": "2024-11-14T01:17:29.781923Z",
     "start_time": "2024-11-14T01:17:25.205016Z"
    }
   },
   "cell_type": "code",
   "source": [
    "# Evaluation\n",
    "from sklearn.metrics import roc_auc_score\n",
    "\n",
    "model.eval()\n",
    "with torch.no_grad():\n",
    "    z = model.encode(edge_index, edge_attr)\n",
    "    edge_scores = model.decode(z, edge_label_index).view(-1)\n",
    "    edge_probs = torch.sigmoid(edge_scores)\n",
    "\n",
    "    # Move data to CPU for evaluation\n",
    "    edge_label_cpu = edge_label.cpu().numpy()\n",
    "    edge_probs_cpu = edge_probs.cpu().numpy()\n",
    "\n",
    "    # Compute ROC AUC\n",
    "    auc = roc_auc_score(edge_label_cpu, edge_probs_cpu)\n",
    "    print(f'ROC AUC: {auc:.4f}')"
   ],
   "id": "cd60b770f046ed52",
   "outputs": [
    {
     "name": "stdout",
     "output_type": "stream",
     "text": [
      "ROC AUC: 0.5238\n"
     ]
    }
   ],
   "execution_count": 21
  },
  {
   "metadata": {
    "ExecuteTime": {
     "end_time": "2024-11-13T23:20:01.266377Z",
     "start_time": "2024-11-13T23:20:01.264652Z"
    }
   },
   "cell_type": "code",
   "source": "",
   "id": "b2e9c1272c2066b8",
   "outputs": [],
   "execution_count": null
  }
 ],
 "metadata": {
  "kernelspec": {
   "display_name": "Python 3",
   "language": "python",
   "name": "python3"
  },
  "language_info": {
   "codemirror_mode": {
    "name": "ipython",
    "version": 2
   },
   "file_extension": ".py",
   "mimetype": "text/x-python",
   "name": "python",
   "nbconvert_exporter": "python",
   "pygments_lexer": "ipython2",
   "version": "2.7.6"
  }
 },
 "nbformat": 4,
 "nbformat_minor": 5
}
