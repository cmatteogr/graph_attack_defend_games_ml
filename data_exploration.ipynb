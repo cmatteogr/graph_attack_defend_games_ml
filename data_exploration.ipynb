{
 "cells": [
  {
   "metadata": {},
   "cell_type": "markdown",
   "source": "# Data Exploration. Attack-Defend Game",
   "id": "d9c0693738717d85"
  },
  {
   "metadata": {
    "ExecuteTime": {
     "end_time": "2024-10-11T04:03:15.089764Z",
     "start_time": "2024-10-11T04:02:22.009839Z"
    }
   },
   "cell_type": "code",
   "source": [
    "# import libraries\n",
    "import pandas as pd\n",
    "import os\n",
    "import torch\n",
    "from torch_geometric.data import Data\n",
    "import networkx as nx\n",
    "import matplotlib.pyplot as plt\n",
    "from torch_geometric.utils import to_networkx\n",
    "import matplotlib.colors as mcolors"
   ],
   "id": "ae6c05b35b1734ac",
   "outputs": [
    {
     "name": "stderr",
     "output_type": "stream",
     "text": [
      "\n",
      "A module that was compiled using NumPy 1.x cannot be run in\n",
      "NumPy 2.1.2 as it may crash. To support both 1.x and 2.x\n",
      "versions of NumPy, modules must be compiled with NumPy 2.0.\n",
      "Some module may need to rebuild instead e.g. with 'pybind11>=2.12'.\n",
      "\n",
      "If you are a user of the module, the easiest solution will be to\n",
      "downgrade to 'numpy<2' or try to upgrade the affected module.\n",
      "We expect that some modules will need time to support NumPy 2.\n",
      "\n",
      "Traceback (most recent call last):  File \"<frozen runpy>\", line 198, in _run_module_as_main\n",
      "  File \"<frozen runpy>\", line 88, in _run_code\n",
      "  File \"C:\\Users\\PC\\Documents\\GitHub\\graph_attack_defend_games_ml\\venv\\Lib\\site-packages\\ipykernel_launcher.py\", line 18, in <module>\n",
      "    app.launch_new_instance()\n",
      "  File \"C:\\Users\\PC\\Documents\\GitHub\\graph_attack_defend_games_ml\\venv\\Lib\\site-packages\\traitlets\\config\\application.py\", line 1075, in launch_instance\n",
      "    app.start()\n",
      "  File \"C:\\Users\\PC\\Documents\\GitHub\\graph_attack_defend_games_ml\\venv\\Lib\\site-packages\\ipykernel\\kernelapp.py\", line 739, in start\n",
      "    self.io_loop.start()\n",
      "  File \"C:\\Users\\PC\\Documents\\GitHub\\graph_attack_defend_games_ml\\venv\\Lib\\site-packages\\tornado\\platform\\asyncio.py\", line 205, in start\n",
      "    self.asyncio_loop.run_forever()\n",
      "  File \"C:\\Users\\PC\\AppData\\Local\\Programs\\Python\\Python311\\Lib\\asyncio\\base_events.py\", line 608, in run_forever\n",
      "    self._run_once()\n",
      "  File \"C:\\Users\\PC\\AppData\\Local\\Programs\\Python\\Python311\\Lib\\asyncio\\base_events.py\", line 1936, in _run_once\n",
      "    handle._run()\n",
      "  File \"C:\\Users\\PC\\AppData\\Local\\Programs\\Python\\Python311\\Lib\\asyncio\\events.py\", line 84, in _run\n",
      "    self._context.run(self._callback, *self._args)\n",
      "  File \"C:\\Users\\PC\\Documents\\GitHub\\graph_attack_defend_games_ml\\venv\\Lib\\site-packages\\ipykernel\\kernelbase.py\", line 545, in dispatch_queue\n",
      "    await self.process_one()\n",
      "  File \"C:\\Users\\PC\\Documents\\GitHub\\graph_attack_defend_games_ml\\venv\\Lib\\site-packages\\ipykernel\\kernelbase.py\", line 534, in process_one\n",
      "    await dispatch(*args)\n",
      "  File \"C:\\Users\\PC\\Documents\\GitHub\\graph_attack_defend_games_ml\\venv\\Lib\\site-packages\\ipykernel\\kernelbase.py\", line 437, in dispatch_shell\n",
      "    await result\n",
      "  File \"C:\\Users\\PC\\Documents\\GitHub\\graph_attack_defend_games_ml\\venv\\Lib\\site-packages\\ipykernel\\ipkernel.py\", line 362, in execute_request\n",
      "    await super().execute_request(stream, ident, parent)\n",
      "  File \"C:\\Users\\PC\\Documents\\GitHub\\graph_attack_defend_games_ml\\venv\\Lib\\site-packages\\ipykernel\\kernelbase.py\", line 778, in execute_request\n",
      "    reply_content = await reply_content\n",
      "  File \"C:\\Users\\PC\\Documents\\GitHub\\graph_attack_defend_games_ml\\venv\\Lib\\site-packages\\ipykernel\\ipkernel.py\", line 449, in do_execute\n",
      "    res = shell.run_cell(\n",
      "  File \"C:\\Users\\PC\\Documents\\GitHub\\graph_attack_defend_games_ml\\venv\\Lib\\site-packages\\ipykernel\\zmqshell.py\", line 549, in run_cell\n",
      "    return super().run_cell(*args, **kwargs)\n",
      "  File \"C:\\Users\\PC\\Documents\\GitHub\\graph_attack_defend_games_ml\\venv\\Lib\\site-packages\\IPython\\core\\interactiveshell.py\", line 3075, in run_cell\n",
      "    result = self._run_cell(\n",
      "  File \"C:\\Users\\PC\\Documents\\GitHub\\graph_attack_defend_games_ml\\venv\\Lib\\site-packages\\IPython\\core\\interactiveshell.py\", line 3130, in _run_cell\n",
      "    result = runner(coro)\n",
      "  File \"C:\\Users\\PC\\Documents\\GitHub\\graph_attack_defend_games_ml\\venv\\Lib\\site-packages\\IPython\\core\\async_helpers.py\", line 128, in _pseudo_sync_runner\n",
      "    coro.send(None)\n",
      "  File \"C:\\Users\\PC\\Documents\\GitHub\\graph_attack_defend_games_ml\\venv\\Lib\\site-packages\\IPython\\core\\interactiveshell.py\", line 3334, in run_cell_async\n",
      "    has_raised = await self.run_ast_nodes(code_ast.body, cell_name,\n",
      "  File \"C:\\Users\\PC\\Documents\\GitHub\\graph_attack_defend_games_ml\\venv\\Lib\\site-packages\\IPython\\core\\interactiveshell.py\", line 3517, in run_ast_nodes\n",
      "    if await self.run_code(code, result, async_=asy):\n",
      "  File \"C:\\Users\\PC\\Documents\\GitHub\\graph_attack_defend_games_ml\\venv\\Lib\\site-packages\\IPython\\core\\interactiveshell.py\", line 3577, in run_code\n",
      "    exec(code_obj, self.user_global_ns, self.user_ns)\n",
      "  File \"C:\\Users\\PC\\AppData\\Local\\Temp\\ipykernel_20796\\1786403380.py\", line 5, in <module>\n",
      "    from torch_geometric.data import Data\n",
      "  File \"C:\\Users\\PC\\Documents\\GitHub\\graph_attack_defend_games_ml\\venv\\Lib\\site-packages\\torch_geometric\\__init__.py\", line 21, in <module>\n",
      "    import torch_geometric.datasets\n",
      "  File \"C:\\Users\\PC\\Documents\\GitHub\\graph_attack_defend_games_ml\\venv\\Lib\\site-packages\\torch_geometric\\datasets\\__init__.py\", line 18, in <module>\n",
      "    from .qm9 import QM9\n",
      "  File \"C:\\Users\\PC\\Documents\\GitHub\\graph_attack_defend_games_ml\\venv\\Lib\\site-packages\\torch_geometric\\datasets\\qm9.py\", line 22, in <module>\n",
      "    conversion = torch.tensor([\n",
      "C:\\Users\\PC\\Documents\\GitHub\\graph_attack_defend_games_ml\\venv\\Lib\\site-packages\\torch_geometric\\datasets\\qm9.py:22: UserWarning: Failed to initialize NumPy: _ARRAY_API not found (Triggered internally at ..\\torch\\csrc\\utils\\tensor_numpy.cpp:84.)\n",
      "  conversion = torch.tensor([\n"
     ]
    }
   ],
   "execution_count": 3
  },
  {
   "metadata": {},
   "cell_type": "markdown",
   "source": [
    "### 1. Collect Data\n",
    "Collect data from data source: each day of the week has a different kind of attack type\n",
    "\n",
    "NOTE: The dataset used for now is Friday-WorkingHours-Afternoon-DDos.pcap_ISCX due the amount of data"
   ],
   "id": "7f24781e83c5d3a4"
  },
  {
   "metadata": {
    "ExecuteTime": {
     "end_time": "2024-10-11T02:31:21.168596Z",
     "start_time": "2024-10-11T02:31:07.100513Z"
    }
   },
   "cell_type": "code",
   "source": [
    "# Init the base df\n",
    "base_df = pd.DataFrame()\n",
    "# init folder where is data source\n",
    "folder_path = './data/daily'\n",
    "# list of reports to filter\n",
    "reports_to_use = [\n",
    "    'Friday-WorkingHours-Afternoon-DDos.pcap_ISCX.csv', \n",
    "    'Friday-WorkingHours-Afternoon-PortScan.pcap_ISCX.csv',\n",
    "    'Friday-WorkingHours-Morning.pcap_ISCX.csv',\n",
    "    'Thursday-WorkingHours-Afternoon-Infilteration.pcap_ISCX.csv',\n",
    "    'Thursday-WorkingHours-Morning-WebAttacks.pcap_ISCX.csv',\n",
    "    'Wednesday-workingHours.pcap_ISCX.csv',\n",
    "    'Tuesday-WorkingHours.pcap_ISCX.csv',\n",
    "    'Monday-WorkingHours.pcap_ISCX.csv'\n",
    "]\n",
    "# For each CSV file in daily report folder read it and concatenate to base df\n",
    "for filename in os.listdir(folder_path):\n",
    "    if filename.endswith(\".csv\"):\n",
    "        # check if is in reports to use\n",
    "        if filename not in reports_to_use:\n",
    "            continue\n",
    "\n",
    "        # Prints only text file present in My Folder\n",
    "        print('read report filename (.csv): ', filename)\n",
    "        file_path = os.path.join(folder_path, filename)\n",
    "        try:\n",
    "            # read day report df \n",
    "            day_report_df = pd.read_csv(file_path)\n",
    "        except Exception as e:\n",
    "            # read day report df using latin encoding\n",
    "            day_report_df = pd.read_csv(file_path, encoding='latin1')\n",
    "        finally:\n",
    "            # rename columns, remove blank spaces and replace them by '_'\n",
    "            columns_dict = {}\n",
    "            for column_report in day_report_df.columns:\n",
    "                columns_dict[column_report] = column_report.strip().replace(' ', '_').lower()\n",
    "            day_report_df.rename(columns=columns_dict, inplace=True)\n",
    "            # add day of week columns\n",
    "            day_report_df['source'] = filename.replace('.csv', '')\n",
    "            # concatenate report\n",
    "            base_df = pd.concat([base_df, day_report_df], ignore_index=True)\n",
    "            \n",
    "print(f\"shape: {base_df.shape}\")"
   ],
   "id": "902157c989b6b07d",
   "outputs": [
    {
     "name": "stdout",
     "output_type": "stream",
     "text": [
      "read report filename (.csv):  Friday-WorkingHours-Afternoon-DDos.pcap_ISCX.csv\n",
      "read report filename (.csv):  Friday-WorkingHours-Afternoon-PortScan.pcap_ISCX.csv\n",
      "read report filename (.csv):  Friday-WorkingHours-Morning.pcap_ISCX.csv\n",
      "read report filename (.csv):  Monday-WorkingHours.pcap_ISCX.csv\n",
      "read report filename (.csv):  Thursday-WorkingHours-Afternoon-Infilteration.pcap_ISCX.csv\n",
      "read report filename (.csv):  Thursday-WorkingHours-Morning-WebAttacks.pcap_ISCX.csv\n",
      "read report filename (.csv):  Tuesday-WorkingHours.pcap_ISCX.csv\n",
      "read report filename (.csv):  Wednesday-workingHours.pcap_ISCX.csv\n",
      "shape: (2830706, 86)\n"
     ]
    }
   ],
   "execution_count": 2
  },
  {
   "metadata": {
    "ExecuteTime": {
     "end_time": "2024-10-11T02:31:21.991782Z",
     "start_time": "2024-10-11T02:31:21.924475Z"
    }
   },
   "cell_type": "code",
   "source": "print(f\"kind of attacks: {base_df['label'].unique()}\")",
   "id": "fc6026b7122e9c08",
   "outputs": [
    {
     "name": "stdout",
     "output_type": "stream",
     "text": [
      "kind of attacks: ['BENIGN' 'DDoS' 'PortScan' 'Bot' 'Infiltration'\n",
      " 'Web Attack \\x96 Brute Force' 'Web Attack \\x96 XSS'\n",
      " 'Web Attack \\x96 Sql Injection' 'FTP-Patator' 'SSH-Patator'\n",
      " 'DoS slowloris' 'DoS Slowhttptest' 'DoS Hulk' 'DoS GoldenEye'\n",
      " 'Heartbleed']\n"
     ]
    }
   ],
   "execution_count": 3
  },
  {
   "metadata": {},
   "cell_type": "markdown",
   "source": [
    "### 2. Clean data\n",
    "Clean data set"
   ],
   "id": "154fc36f12f7cc38"
  },
  {
   "metadata": {},
   "cell_type": "markdown",
   "source": "remove duplicated rows",
   "id": "4edf4be99e2001c7"
  },
  {
   "metadata": {
    "ExecuteTime": {
     "end_time": "2024-10-11T02:31:33.485834Z",
     "start_time": "2024-10-11T02:31:22.614467Z"
    }
   },
   "cell_type": "code",
   "source": [
    "# remove duplicated\n",
    "base_df.drop_duplicates(inplace=True)\n",
    "print(f\"new shape: {base_df.shape}\")"
   ],
   "id": "cc357b45a5807485",
   "outputs": [
    {
     "name": "stdout",
     "output_type": "stream",
     "text": [
      "new shape: (2830503, 86)\n"
     ]
    }
   ],
   "execution_count": 4
  },
  {
   "metadata": {},
   "cell_type": "markdown",
   "source": [
    "### 3. Preprocess\n",
    "Build the servers (nodes) and their features. Build the communication (edges) and the features. \n",
    "\n",
    "Servers dataset (nodes):\n",
    "- Get the unique server ip.\n",
    "- For each server define if it's an attacker or benign server"
   ],
   "id": "4802921147ba5d1a"
  },
  {
   "metadata": {
    "ExecuteTime": {
     "end_time": "2024-10-11T02:31:34.845800Z",
     "start_time": "2024-10-11T02:31:34.224579Z"
    }
   },
   "cell_type": "code",
   "source": [
    "# strip and format ip columns\n",
    "base_df['source_ip'] = base_df['source_ip'].str.strip()\n",
    "base_df['destination_ip'] = base_df['destination_ip'].str.strip()\n",
    "# get unique servers ip\n",
    "source_ip = set(base_df['source_ip'].unique())\n",
    "destination_ip = set(base_df['destination_ip'].unique())\n",
    "# merge source and destination ips\n",
    "all_ips = source_ip | destination_ip\n",
    "print(f\"there are {len(source_ip)} source servers ips\")\n",
    "print(f\"there are {len(destination_ip)} destination servers ips\")\n",
    "print(f\"there are {len(all_ips)} total servers ips\")"
   ],
   "id": "68ec0eb84d697bde",
   "outputs": [
    {
     "name": "stdout",
     "output_type": "stream",
     "text": [
      "there are 17005 source servers ips\n",
      "there are 19112 destination servers ips\n",
      "there are 19129 total servers ips\n"
     ]
    }
   ],
   "execution_count": 5
  },
  {
   "metadata": {
    "ExecuteTime": {
     "end_time": "2024-10-11T02:31:35.727359Z",
     "start_time": "2024-10-11T02:31:35.475989Z"
    }
   },
   "cell_type": "code",
   "source": [
    "# filter the attackers and type of attacks\n",
    "server_attacker_df = base_df.loc[base_df['label'] != 'BENIGN'].groupby(by='source_ip').agg(attacks_types=('label', lambda x: ','.join(x.unique()))).reset_index()\n",
    "# rename ip column\n",
    "server_attacker_df.rename(columns={'source_ip': 'ip'}, inplace=True)\n",
    "server_attacker_df"
   ],
   "id": "129611a302177a2f",
   "outputs": [
    {
     "data": {
      "text/plain": [
       "               ip                                      attacks_types\n",
       "0      172.16.0.1  DDoS,PortScan,Web Attack  Brute Force,Web Att...\n",
       "1   192.168.10.12                                                Bot\n",
       "2   192.168.10.14                                                Bot\n",
       "3   192.168.10.15                                                Bot\n",
       "4   192.168.10.17                                                Bot\n",
       "5    192.168.10.5                                                Bot\n",
       "6   192.168.10.50                                               DDoS\n",
       "7    192.168.10.8                                   Bot,Infiltration\n",
       "8    192.168.10.9                                                Bot\n",
       "9  205.174.165.73                                                Bot"
      ],
      "text/html": [
       "<div>\n",
       "<style scoped>\n",
       "    .dataframe tbody tr th:only-of-type {\n",
       "        vertical-align: middle;\n",
       "    }\n",
       "\n",
       "    .dataframe tbody tr th {\n",
       "        vertical-align: top;\n",
       "    }\n",
       "\n",
       "    .dataframe thead th {\n",
       "        text-align: right;\n",
       "    }\n",
       "</style>\n",
       "<table border=\"1\" class=\"dataframe\">\n",
       "  <thead>\n",
       "    <tr style=\"text-align: right;\">\n",
       "      <th></th>\n",
       "      <th>ip</th>\n",
       "      <th>attacks_types</th>\n",
       "    </tr>\n",
       "  </thead>\n",
       "  <tbody>\n",
       "    <tr>\n",
       "      <th>0</th>\n",
       "      <td>172.16.0.1</td>\n",
       "      <td>DDoS,PortScan,Web Attack  Brute Force,Web Att...</td>\n",
       "    </tr>\n",
       "    <tr>\n",
       "      <th>1</th>\n",
       "      <td>192.168.10.12</td>\n",
       "      <td>Bot</td>\n",
       "    </tr>\n",
       "    <tr>\n",
       "      <th>2</th>\n",
       "      <td>192.168.10.14</td>\n",
       "      <td>Bot</td>\n",
       "    </tr>\n",
       "    <tr>\n",
       "      <th>3</th>\n",
       "      <td>192.168.10.15</td>\n",
       "      <td>Bot</td>\n",
       "    </tr>\n",
       "    <tr>\n",
       "      <th>4</th>\n",
       "      <td>192.168.10.17</td>\n",
       "      <td>Bot</td>\n",
       "    </tr>\n",
       "    <tr>\n",
       "      <th>5</th>\n",
       "      <td>192.168.10.5</td>\n",
       "      <td>Bot</td>\n",
       "    </tr>\n",
       "    <tr>\n",
       "      <th>6</th>\n",
       "      <td>192.168.10.50</td>\n",
       "      <td>DDoS</td>\n",
       "    </tr>\n",
       "    <tr>\n",
       "      <th>7</th>\n",
       "      <td>192.168.10.8</td>\n",
       "      <td>Bot,Infiltration</td>\n",
       "    </tr>\n",
       "    <tr>\n",
       "      <th>8</th>\n",
       "      <td>192.168.10.9</td>\n",
       "      <td>Bot</td>\n",
       "    </tr>\n",
       "    <tr>\n",
       "      <th>9</th>\n",
       "      <td>205.174.165.73</td>\n",
       "      <td>Bot</td>\n",
       "    </tr>\n",
       "  </tbody>\n",
       "</table>\n",
       "</div>"
      ]
     },
     "execution_count": 6,
     "metadata": {},
     "output_type": "execute_result"
    }
   ],
   "execution_count": 6
  },
  {
   "metadata": {
    "ExecuteTime": {
     "end_time": "2024-10-11T02:31:36.709962Z",
     "start_time": "2024-10-11T02:31:36.354481Z"
    }
   },
   "cell_type": "code",
   "source": [
    "# filter servers attacked, the victims. get the number of attacks and the attacker ip list and type of attacks list\n",
    "server_attacker_ips = server_attacker_df['ip'].tolist()\n",
    "server_victims_df = base_df.loc[(base_df['source_ip'].isin(server_attacker_ips)) & (base_df['label'] != 'BENIGN')].groupby(by='destination_ip').agg(n_attacks=('label', lambda x: len(x)), attacker_ips=('source_ip', lambda x: ','.join(x.unique())), attack_types=('label', lambda x: ','.join(x.unique()))).reset_index()\n",
    "# rename ip column\n",
    "server_victims_df.rename(columns={'destination_ip': 'ip'}, inplace=True)\n",
    "server_victims_df"
   ],
   "id": "169c18fa30950549",
   "outputs": [
    {
     "data": {
      "text/plain": [
       "                ip  n_attacks  \\\n",
       "0       172.16.0.1          3   \n",
       "1    192.168.10.14        139   \n",
       "2    192.168.10.15        209   \n",
       "3     192.168.10.5        108   \n",
       "4    192.168.10.50     555629   \n",
       "5    192.168.10.51         11   \n",
       "6     192.168.10.8        103   \n",
       "7     192.168.10.9        146   \n",
       "8   205.174.165.73       1293   \n",
       "9       52.6.13.28          2   \n",
       "10    52.7.235.158          2   \n",
       "\n",
       "                                         attacker_ips  \\\n",
       "0                                       192.168.10.50   \n",
       "1                                      205.174.165.73   \n",
       "2                                      205.174.165.73   \n",
       "3                                      205.174.165.73   \n",
       "4                                          172.16.0.1   \n",
       "5                                          172.16.0.1   \n",
       "6                                      205.174.165.73   \n",
       "7                                      205.174.165.73   \n",
       "8   192.168.10.9,192.168.10.15,192.168.10.14,192.1...   \n",
       "9                                       192.168.10.12   \n",
       "10                                      192.168.10.17   \n",
       "\n",
       "                                         attack_types  \n",
       "0                                                DDoS  \n",
       "1                                                 Bot  \n",
       "2                                                 Bot  \n",
       "3                                                 Bot  \n",
       "4   DDoS,PortScan,Web Attack  Brute Force,Web Att...  \n",
       "5                                          Heartbleed  \n",
       "6                                                 Bot  \n",
       "7                                                 Bot  \n",
       "8                                    Bot,Infiltration  \n",
       "9                                                 Bot  \n",
       "10                                                Bot  "
      ],
      "text/html": [
       "<div>\n",
       "<style scoped>\n",
       "    .dataframe tbody tr th:only-of-type {\n",
       "        vertical-align: middle;\n",
       "    }\n",
       "\n",
       "    .dataframe tbody tr th {\n",
       "        vertical-align: top;\n",
       "    }\n",
       "\n",
       "    .dataframe thead th {\n",
       "        text-align: right;\n",
       "    }\n",
       "</style>\n",
       "<table border=\"1\" class=\"dataframe\">\n",
       "  <thead>\n",
       "    <tr style=\"text-align: right;\">\n",
       "      <th></th>\n",
       "      <th>ip</th>\n",
       "      <th>n_attacks</th>\n",
       "      <th>attacker_ips</th>\n",
       "      <th>attack_types</th>\n",
       "    </tr>\n",
       "  </thead>\n",
       "  <tbody>\n",
       "    <tr>\n",
       "      <th>0</th>\n",
       "      <td>172.16.0.1</td>\n",
       "      <td>3</td>\n",
       "      <td>192.168.10.50</td>\n",
       "      <td>DDoS</td>\n",
       "    </tr>\n",
       "    <tr>\n",
       "      <th>1</th>\n",
       "      <td>192.168.10.14</td>\n",
       "      <td>139</td>\n",
       "      <td>205.174.165.73</td>\n",
       "      <td>Bot</td>\n",
       "    </tr>\n",
       "    <tr>\n",
       "      <th>2</th>\n",
       "      <td>192.168.10.15</td>\n",
       "      <td>209</td>\n",
       "      <td>205.174.165.73</td>\n",
       "      <td>Bot</td>\n",
       "    </tr>\n",
       "    <tr>\n",
       "      <th>3</th>\n",
       "      <td>192.168.10.5</td>\n",
       "      <td>108</td>\n",
       "      <td>205.174.165.73</td>\n",
       "      <td>Bot</td>\n",
       "    </tr>\n",
       "    <tr>\n",
       "      <th>4</th>\n",
       "      <td>192.168.10.50</td>\n",
       "      <td>555629</td>\n",
       "      <td>172.16.0.1</td>\n",
       "      <td>DDoS,PortScan,Web Attack  Brute Force,Web Att...</td>\n",
       "    </tr>\n",
       "    <tr>\n",
       "      <th>5</th>\n",
       "      <td>192.168.10.51</td>\n",
       "      <td>11</td>\n",
       "      <td>172.16.0.1</td>\n",
       "      <td>Heartbleed</td>\n",
       "    </tr>\n",
       "    <tr>\n",
       "      <th>6</th>\n",
       "      <td>192.168.10.8</td>\n",
       "      <td>103</td>\n",
       "      <td>205.174.165.73</td>\n",
       "      <td>Bot</td>\n",
       "    </tr>\n",
       "    <tr>\n",
       "      <th>7</th>\n",
       "      <td>192.168.10.9</td>\n",
       "      <td>146</td>\n",
       "      <td>205.174.165.73</td>\n",
       "      <td>Bot</td>\n",
       "    </tr>\n",
       "    <tr>\n",
       "      <th>8</th>\n",
       "      <td>205.174.165.73</td>\n",
       "      <td>1293</td>\n",
       "      <td>192.168.10.9,192.168.10.15,192.168.10.14,192.1...</td>\n",
       "      <td>Bot,Infiltration</td>\n",
       "    </tr>\n",
       "    <tr>\n",
       "      <th>9</th>\n",
       "      <td>52.6.13.28</td>\n",
       "      <td>2</td>\n",
       "      <td>192.168.10.12</td>\n",
       "      <td>Bot</td>\n",
       "    </tr>\n",
       "    <tr>\n",
       "      <th>10</th>\n",
       "      <td>52.7.235.158</td>\n",
       "      <td>2</td>\n",
       "      <td>192.168.10.17</td>\n",
       "      <td>Bot</td>\n",
       "    </tr>\n",
       "  </tbody>\n",
       "</table>\n",
       "</div>"
      ]
     },
     "execution_count": 7,
     "metadata": {},
     "output_type": "execute_result"
    }
   ],
   "execution_count": 7
  },
  {
   "metadata": {
    "ExecuteTime": {
     "end_time": "2024-10-11T02:31:37.405479Z",
     "start_time": "2024-10-11T02:31:36.739933Z"
    }
   },
   "cell_type": "code",
   "source": [
    "# get the direct collateral victims, serves connected directly with the victims, doesn't matter the communication direction\n",
    "server_victims_ips = server_victims_df['ip'].tolist()\n",
    "# get receiver collateral victims, collateral victims where the direct victim send request to the collateral victim\n",
    "server_collateral_victims_receivers_df = base_df.loc[base_df['source_ip'].isin(server_victims_ips)].groupby(by='destination_ip').agg(n_interactions=('label', lambda x: len(x))).reset_index()\n",
    "server_collateral_victims_receivers_df.sort_values(by='n_interactions', ascending=False)"
   ],
   "id": "f606558e95d4ff96",
   "outputs": [
    {
     "data": {
      "text/plain": [
       "      destination_ip  n_interactions\n",
       "4360   192.168.10.50          572698\n",
       "4358    192.168.10.3          430560\n",
       "3247      172.16.0.1           47879\n",
       "4359    192.168.10.5           13491\n",
       "3802    178.255.83.1           12397\n",
       "...              ...             ...\n",
       "11592   52.84.86.175               1\n",
       "1328   107.21.116.97               1\n",
       "3673    174.129.8.62               1\n",
       "11594   52.84.86.207               1\n",
       "13053  54.235.100.97               1\n",
       "\n",
       "[15268 rows x 2 columns]"
      ],
      "text/html": [
       "<div>\n",
       "<style scoped>\n",
       "    .dataframe tbody tr th:only-of-type {\n",
       "        vertical-align: middle;\n",
       "    }\n",
       "\n",
       "    .dataframe tbody tr th {\n",
       "        vertical-align: top;\n",
       "    }\n",
       "\n",
       "    .dataframe thead th {\n",
       "        text-align: right;\n",
       "    }\n",
       "</style>\n",
       "<table border=\"1\" class=\"dataframe\">\n",
       "  <thead>\n",
       "    <tr style=\"text-align: right;\">\n",
       "      <th></th>\n",
       "      <th>destination_ip</th>\n",
       "      <th>n_interactions</th>\n",
       "    </tr>\n",
       "  </thead>\n",
       "  <tbody>\n",
       "    <tr>\n",
       "      <th>4360</th>\n",
       "      <td>192.168.10.50</td>\n",
       "      <td>572698</td>\n",
       "    </tr>\n",
       "    <tr>\n",
       "      <th>4358</th>\n",
       "      <td>192.168.10.3</td>\n",
       "      <td>430560</td>\n",
       "    </tr>\n",
       "    <tr>\n",
       "      <th>3247</th>\n",
       "      <td>172.16.0.1</td>\n",
       "      <td>47879</td>\n",
       "    </tr>\n",
       "    <tr>\n",
       "      <th>4359</th>\n",
       "      <td>192.168.10.5</td>\n",
       "      <td>13491</td>\n",
       "    </tr>\n",
       "    <tr>\n",
       "      <th>3802</th>\n",
       "      <td>178.255.83.1</td>\n",
       "      <td>12397</td>\n",
       "    </tr>\n",
       "    <tr>\n",
       "      <th>...</th>\n",
       "      <td>...</td>\n",
       "      <td>...</td>\n",
       "    </tr>\n",
       "    <tr>\n",
       "      <th>11592</th>\n",
       "      <td>52.84.86.175</td>\n",
       "      <td>1</td>\n",
       "    </tr>\n",
       "    <tr>\n",
       "      <th>1328</th>\n",
       "      <td>107.21.116.97</td>\n",
       "      <td>1</td>\n",
       "    </tr>\n",
       "    <tr>\n",
       "      <th>3673</th>\n",
       "      <td>174.129.8.62</td>\n",
       "      <td>1</td>\n",
       "    </tr>\n",
       "    <tr>\n",
       "      <th>11594</th>\n",
       "      <td>52.84.86.207</td>\n",
       "      <td>1</td>\n",
       "    </tr>\n",
       "    <tr>\n",
       "      <th>13053</th>\n",
       "      <td>54.235.100.97</td>\n",
       "      <td>1</td>\n",
       "    </tr>\n",
       "  </tbody>\n",
       "</table>\n",
       "<p>15268 rows × 2 columns</p>\n",
       "</div>"
      ]
     },
     "execution_count": 8,
     "metadata": {},
     "output_type": "execute_result"
    }
   ],
   "execution_count": 8
  },
  {
   "metadata": {
    "ExecuteTime": {
     "end_time": "2024-10-11T02:31:37.922468Z",
     "start_time": "2024-10-11T02:31:37.427478Z"
    }
   },
   "cell_type": "code",
   "source": [
    "# get requester collateral victims, collateral victims where the direct victim receive request from the collateral victim\n",
    "server_collateral_victims_requesters_df = base_df.loc[base_df['destination_ip'].isin(server_victims_ips)].groupby(by='source_ip').agg(n_interactions=('label', lambda x: len(x))).reset_index()\n",
    "server_collateral_victims_requesters_df"
   ],
   "id": "6d1cef327850e8f6",
   "outputs": [
    {
     "data": {
      "text/plain": [
       "            source_ip  n_interactions\n",
       "0           1.1.70.73               1\n",
       "1         1.226.51.31               6\n",
       "2        1.227.196.21               7\n",
       "3        1.234.58.131               1\n",
       "4          1.234.58.2               1\n",
       "...               ...             ...\n",
       "13449   98.139.225.43              60\n",
       "13450  98.158.106.130               6\n",
       "13451   98.158.62.102               3\n",
       "13452   98.158.62.103               3\n",
       "13453   99.192.248.32               8\n",
       "\n",
       "[13454 rows x 2 columns]"
      ],
      "text/html": [
       "<div>\n",
       "<style scoped>\n",
       "    .dataframe tbody tr th:only-of-type {\n",
       "        vertical-align: middle;\n",
       "    }\n",
       "\n",
       "    .dataframe tbody tr th {\n",
       "        vertical-align: top;\n",
       "    }\n",
       "\n",
       "    .dataframe thead th {\n",
       "        text-align: right;\n",
       "    }\n",
       "</style>\n",
       "<table border=\"1\" class=\"dataframe\">\n",
       "  <thead>\n",
       "    <tr style=\"text-align: right;\">\n",
       "      <th></th>\n",
       "      <th>source_ip</th>\n",
       "      <th>n_interactions</th>\n",
       "    </tr>\n",
       "  </thead>\n",
       "  <tbody>\n",
       "    <tr>\n",
       "      <th>0</th>\n",
       "      <td>1.1.70.73</td>\n",
       "      <td>1</td>\n",
       "    </tr>\n",
       "    <tr>\n",
       "      <th>1</th>\n",
       "      <td>1.226.51.31</td>\n",
       "      <td>6</td>\n",
       "    </tr>\n",
       "    <tr>\n",
       "      <th>2</th>\n",
       "      <td>1.227.196.21</td>\n",
       "      <td>7</td>\n",
       "    </tr>\n",
       "    <tr>\n",
       "      <th>3</th>\n",
       "      <td>1.234.58.131</td>\n",
       "      <td>1</td>\n",
       "    </tr>\n",
       "    <tr>\n",
       "      <th>4</th>\n",
       "      <td>1.234.58.2</td>\n",
       "      <td>1</td>\n",
       "    </tr>\n",
       "    <tr>\n",
       "      <th>...</th>\n",
       "      <td>...</td>\n",
       "      <td>...</td>\n",
       "    </tr>\n",
       "    <tr>\n",
       "      <th>13449</th>\n",
       "      <td>98.139.225.43</td>\n",
       "      <td>60</td>\n",
       "    </tr>\n",
       "    <tr>\n",
       "      <th>13450</th>\n",
       "      <td>98.158.106.130</td>\n",
       "      <td>6</td>\n",
       "    </tr>\n",
       "    <tr>\n",
       "      <th>13451</th>\n",
       "      <td>98.158.62.102</td>\n",
       "      <td>3</td>\n",
       "    </tr>\n",
       "    <tr>\n",
       "      <th>13452</th>\n",
       "      <td>98.158.62.103</td>\n",
       "      <td>3</td>\n",
       "    </tr>\n",
       "    <tr>\n",
       "      <th>13453</th>\n",
       "      <td>99.192.248.32</td>\n",
       "      <td>8</td>\n",
       "    </tr>\n",
       "  </tbody>\n",
       "</table>\n",
       "<p>13454 rows × 2 columns</p>\n",
       "</div>"
      ]
     },
     "execution_count": 9,
     "metadata": {},
     "output_type": "execute_result"
    }
   ],
   "execution_count": 9
  },
  {
   "metadata": {},
   "cell_type": "markdown",
   "source": "Init node features. servers features, the unique one use is the target (attacker benign)",
   "id": "f8329ab590c6e8b4"
  },
  {
   "metadata": {
    "ExecuteTime": {
     "end_time": "2024-10-11T02:31:37.994729Z",
     "start_time": "2024-10-11T02:31:37.985862Z"
    }
   },
   "cell_type": "code",
   "source": [
    "# Build servers data\n",
    "servers_df = pd.DataFrame(all_ips, columns=['ip'])\n",
    "servers_df['type'] = 0\n",
    "# locate and update the attackers servers (nodes)\n",
    "servers_df.loc[servers_df['type'].isin(server_attacker_df['ip'].tolist()), 'type'] = 1\n",
    "# Add node index by order\n",
    "servers_df['ip_index'] = servers_df.index\n",
    "servers_df"
   ],
   "id": "7b8511f8c01f6491",
   "outputs": [
    {
     "data": {
      "text/plain": [
       "                    ip  type  ip_index\n",
       "0       104.196.216.15     0         0\n",
       "1      209.205.212.106     0         1\n",
       "2         45.56.123.34     0         2\n",
       "3      218.107.196.207     0         3\n",
       "4         54.85.145.56     0         4\n",
       "...                ...   ...       ...\n",
       "19124     52.2.129.149     0     19124\n",
       "19125       52.6.24.26     0     19125\n",
       "19126    104.92.123.83     0     19126\n",
       "19127   144.217.164.10     0     19127\n",
       "19128     54.192.36.12     0     19128\n",
       "\n",
       "[19129 rows x 3 columns]"
      ],
      "text/html": [
       "<div>\n",
       "<style scoped>\n",
       "    .dataframe tbody tr th:only-of-type {\n",
       "        vertical-align: middle;\n",
       "    }\n",
       "\n",
       "    .dataframe tbody tr th {\n",
       "        vertical-align: top;\n",
       "    }\n",
       "\n",
       "    .dataframe thead th {\n",
       "        text-align: right;\n",
       "    }\n",
       "</style>\n",
       "<table border=\"1\" class=\"dataframe\">\n",
       "  <thead>\n",
       "    <tr style=\"text-align: right;\">\n",
       "      <th></th>\n",
       "      <th>ip</th>\n",
       "      <th>type</th>\n",
       "      <th>ip_index</th>\n",
       "    </tr>\n",
       "  </thead>\n",
       "  <tbody>\n",
       "    <tr>\n",
       "      <th>0</th>\n",
       "      <td>104.196.216.15</td>\n",
       "      <td>0</td>\n",
       "      <td>0</td>\n",
       "    </tr>\n",
       "    <tr>\n",
       "      <th>1</th>\n",
       "      <td>209.205.212.106</td>\n",
       "      <td>0</td>\n",
       "      <td>1</td>\n",
       "    </tr>\n",
       "    <tr>\n",
       "      <th>2</th>\n",
       "      <td>45.56.123.34</td>\n",
       "      <td>0</td>\n",
       "      <td>2</td>\n",
       "    </tr>\n",
       "    <tr>\n",
       "      <th>3</th>\n",
       "      <td>218.107.196.207</td>\n",
       "      <td>0</td>\n",
       "      <td>3</td>\n",
       "    </tr>\n",
       "    <tr>\n",
       "      <th>4</th>\n",
       "      <td>54.85.145.56</td>\n",
       "      <td>0</td>\n",
       "      <td>4</td>\n",
       "    </tr>\n",
       "    <tr>\n",
       "      <th>...</th>\n",
       "      <td>...</td>\n",
       "      <td>...</td>\n",
       "      <td>...</td>\n",
       "    </tr>\n",
       "    <tr>\n",
       "      <th>19124</th>\n",
       "      <td>52.2.129.149</td>\n",
       "      <td>0</td>\n",
       "      <td>19124</td>\n",
       "    </tr>\n",
       "    <tr>\n",
       "      <th>19125</th>\n",
       "      <td>52.6.24.26</td>\n",
       "      <td>0</td>\n",
       "      <td>19125</td>\n",
       "    </tr>\n",
       "    <tr>\n",
       "      <th>19126</th>\n",
       "      <td>104.92.123.83</td>\n",
       "      <td>0</td>\n",
       "      <td>19126</td>\n",
       "    </tr>\n",
       "    <tr>\n",
       "      <th>19127</th>\n",
       "      <td>144.217.164.10</td>\n",
       "      <td>0</td>\n",
       "      <td>19127</td>\n",
       "    </tr>\n",
       "    <tr>\n",
       "      <th>19128</th>\n",
       "      <td>54.192.36.12</td>\n",
       "      <td>0</td>\n",
       "      <td>19128</td>\n",
       "    </tr>\n",
       "  </tbody>\n",
       "</table>\n",
       "<p>19129 rows × 3 columns</p>\n",
       "</div>"
      ]
     },
     "execution_count": 10,
     "metadata": {},
     "output_type": "execute_result"
    }
   ],
   "execution_count": 10
  },
  {
   "metadata": {},
   "cell_type": "markdown",
   "source": [
    "Define edges. Server connections. The communication has a direction, one server send the request and other one received and may \n",
    "attacker_df\n",
    "Pytorch only accept numbers, in order to use the same (similar) source ip and destination ip, the number to use is the same ip address without dots (ex. '172.16.0.1' => 1721601)"
   ],
   "id": "b9c389f5cf899aa0"
  },
  {
   "metadata": {
    "ExecuteTime": {
     "end_time": "2024-10-11T02:31:41.148280Z",
     "start_time": "2024-10-11T02:31:38.063294Z"
    }
   },
   "cell_type": "code",
   "source": [
    "# Extract the source and target node pairs for directed edges, use the ip_index to define destination and source\n",
    "base_df = base_df.merge(servers_df[['ip', 'ip_index']], left_on='source_ip', right_on='ip', how='left')\n",
    "base_df.rename(columns={'ip_index': 'source_ip_index'}, inplace=True)\n",
    "base_df.drop(columns=['ip'], inplace=True)\n",
    "base_df = base_df.merge(servers_df[['ip', 'ip_index']], left_on='destination_ip', right_on='ip', how='left')\n",
    "base_df.rename(columns={'ip_index': 'destination_ip_index'}, inplace=True)\n",
    "base_df.drop(columns=['ip'], inplace=True)"
   ],
   "id": "d892c9e46ff9874c",
   "outputs": [],
   "execution_count": 11
  },
  {
   "metadata": {
    "ExecuteTime": {
     "end_time": "2024-10-11T02:31:41.671619Z",
     "start_time": "2024-10-11T02:31:41.155284Z"
    }
   },
   "cell_type": "code",
   "source": [
    "# create the directional edges\n",
    "edge_index = torch.tensor([base_df['source_ip_index'].tolist(), base_df['destination_ip_index'].tolist()], dtype=torch.long)\n",
    "edge_index"
   ],
   "id": "703a256ab2c35942",
   "outputs": [
    {
     "data": {
      "text/plain": [
       "tensor([[11557,  5290,  5290,  ...,  1094,  1765,  1765],\n",
       "        [12180, 12180, 12180,  ..., 10549, 15621, 15621]])"
      ]
     },
     "execution_count": 12,
     "metadata": {},
     "output_type": "execute_result"
    }
   ],
   "execution_count": 12
  },
  {
   "metadata": {},
   "cell_type": "markdown",
   "source": "Filter relevant columns",
   "id": "a7e60f28853d109b"
  },
  {
   "metadata": {
    "ExecuteTime": {
     "end_time": "2024-10-11T02:31:41.695594Z",
     "start_time": "2024-10-11T02:31:41.691528Z"
    }
   },
   "cell_type": "code",
   "source": [
    "edges_features_columns = [\n",
    "    # a protocol is a set of rules for formatting and processing data. Network protocols are like a common language for computers. \n",
    "    'protocol',\n",
    "    # port number on the sending device (the source) that initiated the connection\n",
    "    'source_port',\n",
    "    # port number on the receiving device (the destination) where the data is being sent\n",
    "    'destination_port',\n",
    "    # refers to the total time a flow (a sequence of packets exchanged between a source and a destination) lasts, from the moment the first packet is sent to the moment the last packet is received\n",
    "    'flow_duration',\n",
    "    # FWD Forward data\n",
    "    # forward packages data. basic metrics about pakages sent from source to destination \n",
    "    'total_fwd_packets',\n",
    "    'total_length_of_fwd_packets',\n",
    "    'fwd_packet_length_max',\n",
    "    'fwd_packet_length_min',\n",
    "    'fwd_packet_length_mean',\n",
    "    'fwd_packet_length_std',\n",
    "    # IAT: Inter-Arrival Time (IAT) of forward packets in a network flow. IAT (Inter-Arrival Time) is the time difference between the arrival of consecutive packets in a flow\n",
    "    'fwd_iat_total',\n",
    "    'fwd_iat_mean',\n",
    "    'fwd_iat_std',\n",
    "    'fwd_iat_max',\n",
    "    'fwd_iat_min',\n",
    "    # PSH Flags: Fwd PSH Flags metric refers to the count of TCP packets with the PSH (Push) flag set in the forward direction\n",
    "    'fwd_psh_flags',\n",
    "    # URG Flags: Fwd URG Flags metric refers to the count of TCP packets with the URG (Urgent) flag set in the forward direction\n",
    "    'fwd_urg_flags',\n",
    "    # header length: Fwd Header Length refers to the total length of the headers in the packets that are traveling in the forward direction \n",
    "    'fwd_header_length',\n",
    "    # Packets/s: number of forward packages\n",
    "    'fwd_packets/s',\n",
    "    # bytes info \n",
    "    'fwd_avg_bytes/bulk',\n",
    "    'fwd_avg_packets/bulk',\n",
    "    'fwd_avg_bulk_rate',\n",
    "    # BWD backward data\n",
    "    # backward packages data. basic metrics about pakages sent from source to destination \n",
    "    'total_backward_packets',\n",
    "    'total_length_of_bwd_packets',\n",
    "    'bwd_packet_length_max',\n",
    "    'bwd_packet_length_min',\n",
    "    'bwd_packet_length_mean',\n",
    "    'bwd_packet_length_std',\n",
    "    # IAT: Inter-Arrival Time (IAT) of backward packets in a network flow. IAT (Inter-Arrival Time) is the time difference between the arrival of consecutive packets in a flow\n",
    "    'bwd_iat_total',\n",
    "    'bwd_iat_mean',\n",
    "    'bwd_iat_std',\n",
    "    'bwd_iat_max',\n",
    "    'bwd_iat_min',\n",
    "    # PSH Flags: bwd PSH Flags metric refers to the count of TCP packets with the PSH (Push) flag set in the backward direction\n",
    "    'bwd_psh_flags',\n",
    "    # URG Flags: bwd URG Flags metric refers to the count of TCP packets with the URG (Urgent) flag set in the backward direction\n",
    "    'bwd_urg_flags',\n",
    "    # header length: bwd Header Length refers to the total length of the headers in the packets that are traveling in the backward direction \n",
    "    'bwd_header_length',\n",
    "    # Packets/s: number of backward packages\n",
    "    'bwd_packets/s',\n",
    "    # bytes info \n",
    "    'bwd_avg_bytes/bulk',\n",
    "    'bwd_avg_packets/bulk',\n",
    "    'bwd_avg_bulk_rate',\n",
    "    # Global metrics\n",
    "    # FIN Flag: number of packets in a network flow that have the FIN (Finish) flag set.\n",
    "    'fin_flag_count',\n",
    "    # SYN Flag: number of packets in a network flow that have the SYN (Synchronize) flag set.\n",
    "    'syn_flag_count',\n",
    "    # SYN Flag: number of packets in a network flow that have the RST (Reset) flag set.\n",
    "    'rst_flag_count',\n",
    "    # SYN Flag: number of packets in a network flow that have the PSH (Push) flag set.\n",
    "    'psh_flag_count',\n",
    "    # SYN Flag: number of packets in a network flow that have the ACK (Acknowledgment) flag set.\n",
    "    'ack_flag_count',\n",
    "    # Common Weakness Enumeration, which is a category system for software vulnerabilities and weaknesses.\n",
    "    'cwe_flag_count',\n",
    "    # ECE Flag Count refers to the number of packets in a network flow that have the ECE (Explicit Congestion Notification Echo) flag set.\n",
    "    'ece_flag_count',\n",
    "]"
   ],
   "id": "5810008673139237",
   "outputs": [],
   "execution_count": 13
  },
  {
   "metadata": {},
   "cell_type": "markdown",
   "source": [
    "Init edge features. servers communication features\n",
    "\n",
    "features selected to map attacks "
   ],
   "id": "7b3bbb57e6c100ce"
  },
  {
   "metadata": {
    "ExecuteTime": {
     "end_time": "2024-10-11T02:31:42.201918Z",
     "start_time": "2024-10-11T02:31:41.725962Z"
    }
   },
   "cell_type": "code",
   "source": [
    "# Init edge features\n",
    "edge_features = torch.tensor(base_df[edges_features_columns].values, dtype=torch.float)\n",
    "edge_features"
   ],
   "id": "5abda3152ab91365",
   "outputs": [
    {
     "data": {
      "text/plain": [
       "tensor([[6.0000e+00, 4.4300e+02, 5.4865e+04,  ..., 1.0000e+00, 0.0000e+00,\n",
       "         0.0000e+00],\n",
       "        [6.0000e+00, 8.0000e+01, 5.5054e+04,  ..., 1.0000e+00, 0.0000e+00,\n",
       "         0.0000e+00],\n",
       "        [6.0000e+00, 8.0000e+01, 5.5055e+04,  ..., 1.0000e+00, 0.0000e+00,\n",
       "         0.0000e+00],\n",
       "        ...,\n",
       "        [6.0000e+00, 4.4300e+02, 5.8030e+04,  ..., 1.0000e+00, 0.0000e+00,\n",
       "         0.0000e+00],\n",
       "        [1.7000e+01, 5.1694e+04, 5.3000e+01,  ..., 0.0000e+00, 0.0000e+00,\n",
       "         0.0000e+00],\n",
       "        [1.7000e+01, 5.7949e+04, 5.3000e+01,  ..., 0.0000e+00, 0.0000e+00,\n",
       "         0.0000e+00]])"
      ]
     },
     "execution_count": 14,
     "metadata": {},
     "output_type": "execute_result"
    }
   ],
   "execution_count": 14
  },
  {
   "metadata": {},
   "cell_type": "markdown",
   "source": "Create graph object",
   "id": "1ec9d0ba75ce70f1"
  },
  {
   "metadata": {
    "ExecuteTime": {
     "end_time": "2024-10-11T02:31:53.041824Z",
     "start_time": "2024-10-11T02:31:42.204923Z"
    }
   },
   "cell_type": "code",
   "source": [
    "# Create PyG Data object\n",
    "data = Data(edge_index=edge_index, edge_attr=edge_features, num_nodes=servers_df.shape[0])\n",
    "# Convert the PyG data to a NetworkX graph for visualization\n",
    "G = to_networkx(data, edge_attrs=['edge_attr'], to_undirected=False)"
   ],
   "id": "c5f97c2a0abe60e3",
   "outputs": [],
   "execution_count": 15
  },
  {
   "metadata": {
    "ExecuteTime": {
     "end_time": "2024-10-11T02:33:15.317388Z",
     "start_time": "2024-10-11T02:33:14.692045Z"
    }
   },
   "cell_type": "code",
   "source": [
    "server_graph_data_filepath = './data/server_graph_data.pth'\n",
    "torch.save(data, server_graph_data_filepath)"
   ],
   "id": "1e91ea222359084",
   "outputs": [],
   "execution_count": 16
  },
  {
   "metadata": {},
   "cell_type": "markdown",
   "source": [
    "### 4. Plot Graph\n",
    "Plot results \n"
   ],
   "id": "d07b25dcb58b0c25"
  },
  {
   "metadata": {},
   "cell_type": "markdown",
   "source": "Plot the servers network graph ",
   "id": "329fd9334d747d6b"
  },
  {
   "metadata": {
    "ExecuteTime": {
     "end_time": "2024-10-11T02:33:49.282017Z",
     "start_time": "2024-10-11T02:33:15.320394Z"
    }
   },
   "cell_type": "code",
   "source": [
    "# Plot the graph with node IDs\n",
    "plt.figure(figsize=(8, 8))\n",
    "nx.draw(G, with_labels=False, node_color='skyblue', node_size=10, edge_color='gray', font_size=15, font_weight='bold')\n",
    "plt.title('Server Network Attack-Defend Game')\n",
    "plt.show()"
   ],
   "id": "5d8496e5eed0e275",
   "outputs": [
    {
     "ename": "KeyboardInterrupt",
     "evalue": "",
     "output_type": "error",
     "traceback": [
      "\u001B[1;31m---------------------------------------------------------------------------\u001B[0m",
      "\u001B[1;31mKeyboardInterrupt\u001B[0m                         Traceback (most recent call last)",
      "Cell \u001B[1;32mIn[17], line 3\u001B[0m\n\u001B[0;32m      1\u001B[0m \u001B[38;5;66;03m# Plot the graph with node IDs\u001B[39;00m\n\u001B[0;32m      2\u001B[0m plt\u001B[38;5;241m.\u001B[39mfigure(figsize\u001B[38;5;241m=\u001B[39m(\u001B[38;5;241m8\u001B[39m, \u001B[38;5;241m8\u001B[39m))\n\u001B[1;32m----> 3\u001B[0m \u001B[43mnx\u001B[49m\u001B[38;5;241;43m.\u001B[39;49m\u001B[43mdraw\u001B[49m\u001B[43m(\u001B[49m\u001B[43mG\u001B[49m\u001B[43m,\u001B[49m\u001B[43m \u001B[49m\u001B[43mwith_labels\u001B[49m\u001B[38;5;241;43m=\u001B[39;49m\u001B[38;5;28;43;01mFalse\u001B[39;49;00m\u001B[43m,\u001B[49m\u001B[43m \u001B[49m\u001B[43mnode_color\u001B[49m\u001B[38;5;241;43m=\u001B[39;49m\u001B[38;5;124;43m'\u001B[39;49m\u001B[38;5;124;43mskyblue\u001B[39;49m\u001B[38;5;124;43m'\u001B[39;49m\u001B[43m,\u001B[49m\u001B[43m \u001B[49m\u001B[43mnode_size\u001B[49m\u001B[38;5;241;43m=\u001B[39;49m\u001B[38;5;241;43m10\u001B[39;49m\u001B[43m,\u001B[49m\u001B[43m \u001B[49m\u001B[43medge_color\u001B[49m\u001B[38;5;241;43m=\u001B[39;49m\u001B[38;5;124;43m'\u001B[39;49m\u001B[38;5;124;43mgray\u001B[39;49m\u001B[38;5;124;43m'\u001B[39;49m\u001B[43m,\u001B[49m\u001B[43m \u001B[49m\u001B[43mfont_size\u001B[49m\u001B[38;5;241;43m=\u001B[39;49m\u001B[38;5;241;43m15\u001B[39;49m\u001B[43m,\u001B[49m\u001B[43m \u001B[49m\u001B[43mfont_weight\u001B[49m\u001B[38;5;241;43m=\u001B[39;49m\u001B[38;5;124;43m'\u001B[39;49m\u001B[38;5;124;43mbold\u001B[39;49m\u001B[38;5;124;43m'\u001B[39;49m\u001B[43m)\u001B[49m\n\u001B[0;32m      4\u001B[0m plt\u001B[38;5;241m.\u001B[39mtitle(\u001B[38;5;124m'\u001B[39m\u001B[38;5;124mServer Network Attack-Defend Game\u001B[39m\u001B[38;5;124m'\u001B[39m)\n\u001B[0;32m      5\u001B[0m plt\u001B[38;5;241m.\u001B[39mshow()\n",
      "File \u001B[1;32m~\\Documents\\GitHub\\graph_attack_defend_games_ml\\venv\\Lib\\site-packages\\networkx\\drawing\\nx_pylab.py:121\u001B[0m, in \u001B[0;36mdraw\u001B[1;34m(G, pos, ax, **kwds)\u001B[0m\n\u001B[0;32m    118\u001B[0m \u001B[38;5;28;01mif\u001B[39;00m \u001B[38;5;124m\"\u001B[39m\u001B[38;5;124mwith_labels\u001B[39m\u001B[38;5;124m\"\u001B[39m \u001B[38;5;129;01mnot\u001B[39;00m \u001B[38;5;129;01min\u001B[39;00m kwds:\n\u001B[0;32m    119\u001B[0m     kwds[\u001B[38;5;124m\"\u001B[39m\u001B[38;5;124mwith_labels\u001B[39m\u001B[38;5;124m\"\u001B[39m] \u001B[38;5;241m=\u001B[39m \u001B[38;5;124m\"\u001B[39m\u001B[38;5;124mlabels\u001B[39m\u001B[38;5;124m\"\u001B[39m \u001B[38;5;129;01min\u001B[39;00m kwds\n\u001B[1;32m--> 121\u001B[0m \u001B[43mdraw_networkx\u001B[49m\u001B[43m(\u001B[49m\u001B[43mG\u001B[49m\u001B[43m,\u001B[49m\u001B[43m \u001B[49m\u001B[43mpos\u001B[49m\u001B[38;5;241;43m=\u001B[39;49m\u001B[43mpos\u001B[49m\u001B[43m,\u001B[49m\u001B[43m \u001B[49m\u001B[43max\u001B[49m\u001B[38;5;241;43m=\u001B[39;49m\u001B[43max\u001B[49m\u001B[43m,\u001B[49m\u001B[43m \u001B[49m\u001B[38;5;241;43m*\u001B[39;49m\u001B[38;5;241;43m*\u001B[39;49m\u001B[43mkwds\u001B[49m\u001B[43m)\u001B[49m\n\u001B[0;32m    122\u001B[0m ax\u001B[38;5;241m.\u001B[39mset_axis_off()\n\u001B[0;32m    123\u001B[0m plt\u001B[38;5;241m.\u001B[39mdraw_if_interactive()\n",
      "File \u001B[1;32m~\\Documents\\GitHub\\graph_attack_defend_games_ml\\venv\\Lib\\site-packages\\networkx\\drawing\\nx_pylab.py:302\u001B[0m, in \u001B[0;36mdraw_networkx\u001B[1;34m(G, pos, arrows, with_labels, **kwds)\u001B[0m\n\u001B[0;32m    299\u001B[0m label_kwds \u001B[38;5;241m=\u001B[39m {k: v \u001B[38;5;28;01mfor\u001B[39;00m k, v \u001B[38;5;129;01min\u001B[39;00m kwds\u001B[38;5;241m.\u001B[39mitems() \u001B[38;5;28;01mif\u001B[39;00m k \u001B[38;5;129;01min\u001B[39;00m valid_label_kwds}\n\u001B[0;32m    301\u001B[0m \u001B[38;5;28;01mif\u001B[39;00m pos \u001B[38;5;129;01mis\u001B[39;00m \u001B[38;5;28;01mNone\u001B[39;00m:\n\u001B[1;32m--> 302\u001B[0m     pos \u001B[38;5;241m=\u001B[39m \u001B[43mnx\u001B[49m\u001B[38;5;241;43m.\u001B[39;49m\u001B[43mdrawing\u001B[49m\u001B[38;5;241;43m.\u001B[39;49m\u001B[43mspring_layout\u001B[49m\u001B[43m(\u001B[49m\u001B[43mG\u001B[49m\u001B[43m)\u001B[49m  \u001B[38;5;66;03m# default to spring layout\u001B[39;00m\n\u001B[0;32m    304\u001B[0m draw_networkx_nodes(G, pos, \u001B[38;5;241m*\u001B[39m\u001B[38;5;241m*\u001B[39mnode_kwds)\n\u001B[0;32m    305\u001B[0m draw_networkx_edges(G, pos, arrows\u001B[38;5;241m=\u001B[39marrows, \u001B[38;5;241m*\u001B[39m\u001B[38;5;241m*\u001B[39medge_kwds)\n",
      "File \u001B[1;32m~\\Documents\\GitHub\\graph_attack_defend_games_ml\\venv\\Lib\\site-packages\\networkx\\utils\\decorators.py:770\u001B[0m, in \u001B[0;36margmap.__call__.<locals>.func\u001B[1;34m(_argmap__wrapper, *args, **kwargs)\u001B[0m\n\u001B[0;32m    769\u001B[0m \u001B[38;5;28;01mdef\u001B[39;00m \u001B[38;5;21mfunc\u001B[39m(\u001B[38;5;241m*\u001B[39margs, __wrapper\u001B[38;5;241m=\u001B[39m\u001B[38;5;28;01mNone\u001B[39;00m, \u001B[38;5;241m*\u001B[39m\u001B[38;5;241m*\u001B[39mkwargs):\n\u001B[1;32m--> 770\u001B[0m     \u001B[38;5;28;01mreturn\u001B[39;00m \u001B[43margmap\u001B[49m\u001B[38;5;241;43m.\u001B[39;49m\u001B[43m_lazy_compile\u001B[49m\u001B[43m(\u001B[49m\u001B[43m__wrapper\u001B[49m\u001B[43m)\u001B[49m\u001B[43m(\u001B[49m\u001B[38;5;241;43m*\u001B[39;49m\u001B[43margs\u001B[49m\u001B[43m,\u001B[49m\u001B[43m \u001B[49m\u001B[38;5;241;43m*\u001B[39;49m\u001B[38;5;241;43m*\u001B[39;49m\u001B[43mkwargs\u001B[49m\u001B[43m)\u001B[49m\n",
      "File \u001B[1;32m<class 'networkx.utils.decorators.argmap'> compilation 4:4\u001B[0m, in \u001B[0;36margmap_spring_layout_1\u001B[1;34m(G, k, pos, fixed, iterations, threshold, weight, scale, center, dim, seed)\u001B[0m\n\u001B[0;32m      2\u001B[0m \u001B[38;5;28;01mimport\u001B[39;00m \u001B[38;5;21;01mcollections\u001B[39;00m\n\u001B[0;32m      3\u001B[0m \u001B[38;5;28;01mimport\u001B[39;00m \u001B[38;5;21;01mgzip\u001B[39;00m\n\u001B[1;32m----> 4\u001B[0m \u001B[38;5;28;01mimport\u001B[39;00m \u001B[38;5;21;01minspect\u001B[39;00m\n\u001B[0;32m      5\u001B[0m \u001B[38;5;28;01mimport\u001B[39;00m \u001B[38;5;21;01mitertools\u001B[39;00m\n\u001B[0;32m      6\u001B[0m \u001B[38;5;28;01mimport\u001B[39;00m \u001B[38;5;21;01mre\u001B[39;00m\n",
      "File \u001B[1;32m~\\Documents\\GitHub\\graph_attack_defend_games_ml\\venv\\Lib\\site-packages\\networkx\\drawing\\layout.py:482\u001B[0m, in \u001B[0;36mspring_layout\u001B[1;34m(G, k, pos, fixed, iterations, threshold, weight, scale, center, dim, seed)\u001B[0m\n\u001B[0;32m    480\u001B[0m         nnodes, _ \u001B[38;5;241m=\u001B[39m A\u001B[38;5;241m.\u001B[39mshape\n\u001B[0;32m    481\u001B[0m         k \u001B[38;5;241m=\u001B[39m dom_size \u001B[38;5;241m/\u001B[39m np\u001B[38;5;241m.\u001B[39msqrt(nnodes)\n\u001B[1;32m--> 482\u001B[0m     pos \u001B[38;5;241m=\u001B[39m \u001B[43m_sparse_fruchterman_reingold\u001B[49m\u001B[43m(\u001B[49m\n\u001B[0;32m    483\u001B[0m \u001B[43m        \u001B[49m\u001B[43mA\u001B[49m\u001B[43m,\u001B[49m\u001B[43m \u001B[49m\u001B[43mk\u001B[49m\u001B[43m,\u001B[49m\u001B[43m \u001B[49m\u001B[43mpos_arr\u001B[49m\u001B[43m,\u001B[49m\u001B[43m \u001B[49m\u001B[43mfixed\u001B[49m\u001B[43m,\u001B[49m\u001B[43m \u001B[49m\u001B[43miterations\u001B[49m\u001B[43m,\u001B[49m\u001B[43m \u001B[49m\u001B[43mthreshold\u001B[49m\u001B[43m,\u001B[49m\u001B[43m \u001B[49m\u001B[43mdim\u001B[49m\u001B[43m,\u001B[49m\u001B[43m \u001B[49m\u001B[43mseed\u001B[49m\n\u001B[0;32m    484\u001B[0m \u001B[43m    \u001B[49m\u001B[43m)\u001B[49m\n\u001B[0;32m    485\u001B[0m \u001B[38;5;28;01mexcept\u001B[39;00m \u001B[38;5;167;01mValueError\u001B[39;00m:\n\u001B[0;32m    486\u001B[0m     A \u001B[38;5;241m=\u001B[39m nx\u001B[38;5;241m.\u001B[39mto_numpy_array(G, weight\u001B[38;5;241m=\u001B[39mweight)\n",
      "File \u001B[1;32m~\\Documents\\GitHub\\graph_attack_defend_games_ml\\venv\\Lib\\site-packages\\networkx\\utils\\decorators.py:770\u001B[0m, in \u001B[0;36margmap.__call__.<locals>.func\u001B[1;34m(_argmap__wrapper, *args, **kwargs)\u001B[0m\n\u001B[0;32m    769\u001B[0m \u001B[38;5;28;01mdef\u001B[39;00m \u001B[38;5;21mfunc\u001B[39m(\u001B[38;5;241m*\u001B[39margs, __wrapper\u001B[38;5;241m=\u001B[39m\u001B[38;5;28;01mNone\u001B[39;00m, \u001B[38;5;241m*\u001B[39m\u001B[38;5;241m*\u001B[39mkwargs):\n\u001B[1;32m--> 770\u001B[0m     \u001B[38;5;28;01mreturn\u001B[39;00m \u001B[43margmap\u001B[49m\u001B[38;5;241;43m.\u001B[39;49m\u001B[43m_lazy_compile\u001B[49m\u001B[43m(\u001B[49m\u001B[43m__wrapper\u001B[49m\u001B[43m)\u001B[49m\u001B[43m(\u001B[49m\u001B[38;5;241;43m*\u001B[39;49m\u001B[43margs\u001B[49m\u001B[43m,\u001B[49m\u001B[43m \u001B[49m\u001B[38;5;241;43m*\u001B[39;49m\u001B[38;5;241;43m*\u001B[39;49m\u001B[43mkwargs\u001B[49m\u001B[43m)\u001B[49m\n",
      "File \u001B[1;32m<class 'networkx.utils.decorators.argmap'> compilation 8:4\u001B[0m, in \u001B[0;36margmap__sparse_fruchterman_reingold_5\u001B[1;34m(A, k, pos, fixed, iterations, threshold, dim, seed)\u001B[0m\n\u001B[0;32m      2\u001B[0m \u001B[38;5;28;01mimport\u001B[39;00m \u001B[38;5;21;01mcollections\u001B[39;00m\n\u001B[0;32m      3\u001B[0m \u001B[38;5;28;01mimport\u001B[39;00m \u001B[38;5;21;01mgzip\u001B[39;00m\n\u001B[1;32m----> 4\u001B[0m \u001B[38;5;28;01mimport\u001B[39;00m \u001B[38;5;21;01minspect\u001B[39;00m\n\u001B[0;32m      5\u001B[0m \u001B[38;5;28;01mimport\u001B[39;00m \u001B[38;5;21;01mitertools\u001B[39;00m\n\u001B[0;32m      6\u001B[0m \u001B[38;5;28;01mimport\u001B[39;00m \u001B[38;5;21;01mre\u001B[39;00m\n",
      "File \u001B[1;32m~\\Documents\\GitHub\\graph_attack_defend_games_ml\\venv\\Lib\\site-packages\\networkx\\drawing\\layout.py:625\u001B[0m, in \u001B[0;36m_sparse_fruchterman_reingold\u001B[1;34m(A, k, pos, fixed, iterations, threshold, dim, seed)\u001B[0m\n\u001B[0;32m    621\u001B[0m     Ai \u001B[38;5;241m=\u001B[39m A\u001B[38;5;241m.\u001B[39mgetrowview(i)\u001B[38;5;241m.\u001B[39mtoarray()  \u001B[38;5;66;03m# TODO: revisit w/ sparse 1D container\u001B[39;00m\n\u001B[0;32m    622\u001B[0m     \u001B[38;5;66;03m# displacement \"force\"\u001B[39;00m\n\u001B[0;32m    623\u001B[0m     displacement[:, i] \u001B[38;5;241m+\u001B[39m\u001B[38;5;241m=\u001B[39m \u001B[43m(\u001B[49m\n\u001B[0;32m    624\u001B[0m \u001B[43m        \u001B[49m\u001B[43mdelta\u001B[49m\u001B[43m \u001B[49m\u001B[38;5;241;43m*\u001B[39;49m\u001B[43m \u001B[49m\u001B[43m(\u001B[49m\u001B[43mk\u001B[49m\u001B[43m \u001B[49m\u001B[38;5;241;43m*\u001B[39;49m\u001B[43m \u001B[49m\u001B[43mk\u001B[49m\u001B[43m \u001B[49m\u001B[38;5;241;43m/\u001B[39;49m\u001B[43m \u001B[49m\u001B[43mdistance\u001B[49m\u001B[38;5;241;43m*\u001B[39;49m\u001B[38;5;241;43m*\u001B[39;49m\u001B[38;5;241;43m2\u001B[39;49m\u001B[43m \u001B[49m\u001B[38;5;241;43m-\u001B[39;49m\u001B[43m \u001B[49m\u001B[43mAi\u001B[49m\u001B[43m \u001B[49m\u001B[38;5;241;43m*\u001B[39;49m\u001B[43m \u001B[49m\u001B[43mdistance\u001B[49m\u001B[43m \u001B[49m\u001B[38;5;241;43m/\u001B[39;49m\u001B[43m \u001B[49m\u001B[43mk\u001B[49m\u001B[43m)\u001B[49m\n\u001B[1;32m--> 625\u001B[0m \u001B[43m    \u001B[49m\u001B[43m)\u001B[49m\u001B[38;5;241;43m.\u001B[39;49m\u001B[43msum\u001B[49m\u001B[43m(\u001B[49m\u001B[43maxis\u001B[49m\u001B[38;5;241;43m=\u001B[39;49m\u001B[38;5;241;43m1\u001B[39;49m\u001B[43m)\u001B[49m\n\u001B[0;32m    626\u001B[0m \u001B[38;5;66;03m# update positions\u001B[39;00m\n\u001B[0;32m    627\u001B[0m length \u001B[38;5;241m=\u001B[39m np\u001B[38;5;241m.\u001B[39msqrt((displacement\u001B[38;5;241m*\u001B[39m\u001B[38;5;241m*\u001B[39m\u001B[38;5;241m2\u001B[39m)\u001B[38;5;241m.\u001B[39msum(axis\u001B[38;5;241m=\u001B[39m\u001B[38;5;241m0\u001B[39m))\n",
      "File \u001B[1;32m~\\Documents\\GitHub\\graph_attack_defend_games_ml\\venv\\Lib\\site-packages\\numpy\\core\\_methods.py:47\u001B[0m, in \u001B[0;36m_sum\u001B[1;34m(a, axis, dtype, out, keepdims, initial, where)\u001B[0m\n\u001B[0;32m     43\u001B[0m \u001B[38;5;28;01mdef\u001B[39;00m \u001B[38;5;21m_amin\u001B[39m(a, axis\u001B[38;5;241m=\u001B[39m\u001B[38;5;28;01mNone\u001B[39;00m, out\u001B[38;5;241m=\u001B[39m\u001B[38;5;28;01mNone\u001B[39;00m, keepdims\u001B[38;5;241m=\u001B[39m\u001B[38;5;28;01mFalse\u001B[39;00m,\n\u001B[0;32m     44\u001B[0m           initial\u001B[38;5;241m=\u001B[39m_NoValue, where\u001B[38;5;241m=\u001B[39m\u001B[38;5;28;01mTrue\u001B[39;00m):\n\u001B[0;32m     45\u001B[0m     \u001B[38;5;28;01mreturn\u001B[39;00m umr_minimum(a, axis, \u001B[38;5;28;01mNone\u001B[39;00m, out, keepdims, initial, where)\n\u001B[1;32m---> 47\u001B[0m \u001B[38;5;28;01mdef\u001B[39;00m \u001B[38;5;21m_sum\u001B[39m(a, axis\u001B[38;5;241m=\u001B[39m\u001B[38;5;28;01mNone\u001B[39;00m, dtype\u001B[38;5;241m=\u001B[39m\u001B[38;5;28;01mNone\u001B[39;00m, out\u001B[38;5;241m=\u001B[39m\u001B[38;5;28;01mNone\u001B[39;00m, keepdims\u001B[38;5;241m=\u001B[39m\u001B[38;5;28;01mFalse\u001B[39;00m,\n\u001B[0;32m     48\u001B[0m          initial\u001B[38;5;241m=\u001B[39m_NoValue, where\u001B[38;5;241m=\u001B[39m\u001B[38;5;28;01mTrue\u001B[39;00m):\n\u001B[0;32m     49\u001B[0m     \u001B[38;5;28;01mreturn\u001B[39;00m umr_sum(a, axis, dtype, out, keepdims, initial, where)\n\u001B[0;32m     51\u001B[0m \u001B[38;5;28;01mdef\u001B[39;00m \u001B[38;5;21m_prod\u001B[39m(a, axis\u001B[38;5;241m=\u001B[39m\u001B[38;5;28;01mNone\u001B[39;00m, dtype\u001B[38;5;241m=\u001B[39m\u001B[38;5;28;01mNone\u001B[39;00m, out\u001B[38;5;241m=\u001B[39m\u001B[38;5;28;01mNone\u001B[39;00m, keepdims\u001B[38;5;241m=\u001B[39m\u001B[38;5;28;01mFalse\u001B[39;00m,\n\u001B[0;32m     52\u001B[0m           initial\u001B[38;5;241m=\u001B[39m_NoValue, where\u001B[38;5;241m=\u001B[39m\u001B[38;5;28;01mTrue\u001B[39;00m):\n",
      "\u001B[1;31mKeyboardInterrupt\u001B[0m: "
     ]
    },
    {
     "data": {
      "text/plain": [
       "<Figure size 800x800 with 1 Axes>"
      ],
      "image/png": "[encoded data removed]"
     },
     "metadata": {},
     "output_type": "display_data"
    }
   ],
   "execution_count": 17
  },
  {
   "metadata": {},
   "cell_type": "markdown",
   "source": [
    "Plot Server Network, add color to attack and victim nodes, the same apply for edges if they are attacks or benign\n",
    "\n",
    "Add color to collateral victims too"
   ],
   "id": "c85a4e161218bd86"
  },
  {
   "metadata": {},
   "cell_type": "code",
   "outputs": [],
   "execution_count": null,
   "source": [
    "# copy base dataset and filter the relevant interaction: if all interactions are BENIGN, or if at least one interaction is not BENIGN\n",
    "base_last_interaction_df = base_df.copy()\n",
    "base_last_interaction_df = base_last_interaction_df.groupby(by=['source_ip_index', 'destination_ip_index']).agg(interation_type=('label', lambda x: any(filter(lambda i: i != 'BENIGN', x)))).reset_index()\n",
    "base_last_interaction_df = base_last_interaction_df.sort_values(by='interation_type').reset_index(drop=True)\n",
    "base_last_interaction_df"
   ],
   "id": "fe9a9861b7af3d27"
  },
  {
   "metadata": {},
   "cell_type": "code",
   "outputs": [],
   "execution_count": null,
   "source": "base_last_interaction_df.loc[base_last_interaction_df['interation_type']]",
   "id": "74f77ac5ea29504f"
  },
  {
   "metadata": {},
   "cell_type": "code",
   "outputs": [],
   "execution_count": null,
   "source": [
    "edge_last_interaction_index = torch.tensor([base_last_interaction_df['source_ip_index'].tolist(), base_last_interaction_df['destination_ip_index'].tolist()], dtype=torch.long)\n",
    "edge_last_interaction_index"
   ],
   "id": "7d2babdf59cfd114"
  },
  {
   "metadata": {},
   "cell_type": "code",
   "outputs": [],
   "execution_count": null,
   "source": [
    "# Create PyG Data object\n",
    "last_interaction_data = Data(edge_index=edge_last_interaction_index, num_nodes=servers_df.shape[0])\n",
    "# Convert the PyG data to a NetworkX graph for visualization\n",
    "G_last_interaction = to_networkx(last_interaction_data, to_undirected=False)"
   ],
   "id": "bc805a3d7453ce42"
  },
  {
   "metadata": {},
   "cell_type": "code",
   "outputs": [],
   "execution_count": null,
   "source": [
    "# Define unique colors for each category using a colormap or a list of colors\n",
    "unique_interaction_types = list(set(base_last_interaction_df['interation_type'])) \n",
    "color_map_interaction_types = dict(zip(unique_interaction_types, mcolors.TABLEAU_COLORS.keys()))\n",
    "\n",
    "# Edge labels\n",
    "edge_interation_types = base_last_interaction_df['interation_type'].tolist()\n",
    "\n",
    "# Map the edge labels to their corresponding color\n",
    "edge_colors = [color_map_interaction_types[label] for label in edge_interation_types]"
   ],
   "id": "a2da4a231616fe8f"
  },
  {
   "metadata": {},
   "cell_type": "code",
   "outputs": [],
   "execution_count": null,
   "source": [
    "# Map IP addresses to integer node IDs\n",
    "ip_to_id = {ip: idx for idx, ip in enumerate(pd.concat([base_last_interaction_df['source_ip_index'], base_last_interaction_df['destination_ip_index']]).unique())}\n",
    "\n",
    "source_ids = base_last_interaction_df['source_ip_index'].map(ip_to_id).tolist()\n",
    "destination_ids = base_last_interaction_df['destination_ip_index'].map(ip_to_id).tolist()\n",
    "\n",
    "plt.figure(figsize=(8, 8))\n",
    "# Get positions for the nodes\n",
    "pos = nx.spring_layout(G)\n",
    "nx.draw(G, pos, with_labels=False, node_color='skyblue', node_size=10, edge_color=edge_colors, width=1, font_size=12, font_weight='bold')\n",
    "\n",
    "# Annotate the edges with the actual label values\n",
    "#edge_label_dict = {(source, target): f'{label}' for source, target, label in zip(source_ids, destination_ids, edge_labels)}\n",
    "#nx.draw_networkx_edge_labels(G, pos, edge_labels=edge_label_dict)\n",
    "\n",
    "# Add a legend to show which color corresponds to which category\n",
    "legend_labels = {color_map_interaction_types[label]: label for label in color_map_interaction_types}\n",
    "handles = [plt.Line2D([0], [0], color=color, lw=1) for color in legend_labels.keys()]\n",
    "plt.legend(handles, legend_labels.values(), title=\"Event Attack Category\")\n",
    "\n",
    "plt.title('Server Network Attack-Defend Game. Category Attack colors (edge)')\n",
    "plt.show()"
   ],
   "id": "60a2117794381c4b"
  },
  {
   "metadata": {},
   "cell_type": "markdown",
   "source": [
    "### 5. Calculate centrality metrics\n",
    "Apply betweeness centrality and eigenvector centrality"
   ],
   "id": "b47572a47cf042e"
  },
  {
   "metadata": {},
   "cell_type": "code",
   "outputs": [],
   "execution_count": null,
   "source": "from graphs_operations.operations import get_betweenness_centrality, get_eigenvector_centrality, get_graph_laplacian",
   "id": "f2cbfdc9715c854"
  },
  {
   "metadata": {},
   "cell_type": "markdown",
   "source": [
    "Measures the extent to which a vertex lies on paths between other vertices. \n",
    "\n",
    "The business meaning in our case is the key communication servers, they may be good objectives to expand an attack and they are ket towers to defend"
   ],
   "id": "1a3714899767afc8"
  },
  {
   "metadata": {},
   "cell_type": "code",
   "outputs": [],
   "execution_count": null,
   "source": [
    "nodes_betweenness_centrality_scores = get_betweenness_centrality(G)\n",
    "node_centrality = [(servers_df.iloc[node], centrality) for node, centrality in nodes_betweenness_centrality_scores.items()]\n",
    "node_centrality.sort(key=lambda x: x[1], reverse=True)\n",
    "pd.DataFrame(node_centrality)"
   ],
   "id": "5eb99d2e2a95c99b"
  },
  {
   "metadata": {},
   "cell_type": "code",
   "outputs": [],
   "execution_count": null,
   "source": [
    "server_ip = '192.168.10.12'\n",
    "# server_ip = '192.168.10.5'\n",
    "server_ip_index = servers_df.loc[servers_df['ip'] == server_ip].index[0]\n",
    "\n",
    "in_degree = G.in_degree(server_ip_index)\n",
    "out_degree = G.out_degree(server_ip_index)\n",
    "print(f\"The in-degree of server {server_ip} is: {in_degree}\")\n",
    "print(f\"The out-degree of server {server_ip} is: {out_degree}\")"
   ],
   "id": "dea0f8198f258845"
  },
  {
   "metadata": {},
   "cell_type": "markdown",
   "source": [
    "Eigenvector centrality is a measure of the influence a node has on a network. \n",
    "\n",
    "The business meaning in our case is the influential servers, servers that could generate an influence over others."
   ],
   "id": "1b53cfa553359c56"
  },
  {
   "metadata": {},
   "cell_type": "code",
   "outputs": [],
   "execution_count": null,
   "source": [
    "nodes_eigenvector_centrality_scores = get_eigenvector_centrality(G)\n",
    "node_centrality = [(servers_df.iloc[node], centrality) for node, centrality in nodes_eigenvector_centrality_scores.items()]\n",
    "node_centrality.sort(key=lambda x: x[1], reverse=True)\n",
    "pd.DataFrame(node_centrality)"
   ],
   "id": "f63329cea51035d9"
  },
  {
   "metadata": {},
   "cell_type": "code",
   "outputs": [],
   "execution_count": null,
   "source": [
    "server_ip = '192.168.10.15'\n",
    "# server_ip = '192.168.10.5'\n",
    "server_ip_index = servers_df.loc[servers_df['ip'] == server_ip].index[0]\n",
    "\n",
    "in_degree = G.in_degree(server_ip_index)\n",
    "out_degree = G.out_degree(server_ip_index)\n",
    "print(f\"The in-degree of server {server_ip} is: {in_degree}\")\n",
    "print(f\"The out-degree of server {server_ip} is: {out_degree}\")"
   ],
   "id": "8859342a15fdea4"
  },
  {
   "metadata": {},
   "cell_type": "markdown",
   "source": "Laplacian: Structure of the relations in a graph",
   "id": "75af84257a922ca6"
  },
  {
   "metadata": {},
   "cell_type": "code",
   "outputs": [],
   "execution_count": null,
   "source": [
    "from torch_geometric.utils import to_networkx, get_laplacian\n",
    "get_laplacian(edge_index)"
   ],
   "id": "8abbdcf8faa72db"
  }
 ],
 "metadata": {
  "kernelspec": {
   "display_name": "Python 3 (ipykernel)",
   "language": "python",
   "name": "python3"
  },
  "language_info": {
   "codemirror_mode": {
    "name": "ipython",
    "version": 3
   },
   "file_extension": ".py",
   "mimetype": "text/x-python",
   "name": "python",
   "nbconvert_exporter": "python",
   "pygments_lexer": "ipython3",
   "version": "3.10.15"
  }
 },
 "nbformat": 4,
 "nbformat_minor": 5
}
