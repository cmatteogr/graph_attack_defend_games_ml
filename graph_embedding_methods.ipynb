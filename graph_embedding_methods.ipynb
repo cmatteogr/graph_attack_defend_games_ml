{
 "cells": [
  {
   "metadata": {},
   "cell_type": "markdown",
   "source": "# ML Graph Embedding methods",
   "id": "7d4d3767eac7daa5"
  },
  {
   "metadata": {
    "ExecuteTime": {
     "end_time": "2024-10-09T12:55:05.882684Z",
     "start_time": "2024-10-09T12:55:05.879442Z"
    }
   },
   "cell_type": "code",
   "source": [
    "#import libraries\n",
    "import torch\n",
    "import time\n",
    "from torch_geometric.nn import Node2Vec"
   ],
   "id": "2b896f263ab1b657",
   "outputs": [],
   "execution_count": 9
  },
  {
   "metadata": {
    "ExecuteTime": {
     "end_time": "2024-10-09T12:55:07.710441Z",
     "start_time": "2024-10-09T12:55:06.017719Z"
    }
   },
   "cell_type": "code",
   "source": [
    "# Load the graph from the file\n",
    "server_graph_data_filepath = './data/server_graph_data.pth'\n",
    "graph_data = torch.load(server_graph_data_filepath)"
   ],
   "id": "9ff9f7416e1f5cb2",
   "outputs": [
    {
     "name": "stderr",
     "output_type": "stream",
     "text": [
      "C:\\Users\\PC\\AppData\\Local\\Temp\\ipykernel_16592\\4280630462.py:3: FutureWarning: You are using `torch.load` with `weights_only=False` (the current default value), which uses the default pickle module implicitly. It is possible to construct malicious pickle data which will execute arbitrary code during unpickling (See https://github.com/pytorch/pytorch/blob/main/SECURITY.md#untrusted-models for more details). In a future release, the default value for `weights_only` will be flipped to `True`. This limits the functions that could be executed during unpickling. Arbitrary objects will no longer be allowed to be loaded via this mode unless they are explicitly allowlisted by the user via `torch.serialization.add_safe_globals`. We recommend you start setting `weights_only=True` for any use case where you don't have full control of the loaded file. Please open an issue on GitHub for any issues related to this experimental feature.\n",
      "  graph_data = torch.load(server_graph_data_filepath)\n"
     ]
    }
   ],
   "execution_count": 10
  },
  {
   "metadata": {
    "ExecuteTime": {
     "end_time": "2024-10-09T12:55:07.872853Z",
     "start_time": "2024-10-09T12:55:07.715447Z"
    }
   },
   "cell_type": "code",
   "source": [
    "device = torch.device('cuda' if torch.cuda.is_available() else 'cpu')\n",
    "#device = 'cpu'\n",
    "print(device)\n",
    "graph_data = graph_data.to(device)"
   ],
   "id": "7278aa25577143a6",
   "outputs": [
    {
     "name": "stdout",
     "output_type": "stream",
     "text": [
      "cuda\n"
     ]
    }
   ],
   "execution_count": 11
  },
  {
   "metadata": {
    "jupyter": {
     "is_executing": true
    },
    "ExecuteTime": {
     "start_time": "2024-10-09T17:32:55.575605Z"
    }
   },
   "cell_type": "code",
   "source": [
    "# Initialize the Node2Vec model\n",
    "node2vec = Node2Vec(\n",
    "    graph_data.edge_index,       # Edge list\n",
    "    embedding_dim=3,      # Size of embeddings\n",
    "    walk_length=20,        # Length of each random walk\n",
    "    context_size=10,       # Window size for Skip-Gram\n",
    "    walks_per_node=10,     # Number of walks per node\n",
    "    num_negative_samples=1,  # Number of negative samples for Skip-Gram\n",
    "    p=0.25,  # Return parameter: encourages staying close to the starting node\n",
    "    q=4.0,   # In-out parameter: encourages exploring further away\n",
    "    sparse=True            # Use sparse gradients for efficiency\n",
    ").to(device)\n",
    "\n",
    "# Define the optimizer\n",
    "optimizer = torch.optim.SparseAdam(list(node2vec.parameters()), lr=0.01)\n",
    "\n",
    "# Training loop\n",
    "def train():\n",
    "    node2vec.train()\n",
    "    total_loss = 0\n",
    "    loader = node2vec.loader(batch_size=8, shuffle=True)\n",
    "    for pos_rw, neg_rw in loader:\n",
    "        pos_rw = pos_rw.to(device)\n",
    "        neg_rw = neg_rw.to(device)\n",
    "        \n",
    "        optimizer.zero_grad()\n",
    "        loss = node2vec.loss(pos_rw, neg_rw)\n",
    "        loss.backward()\n",
    "        optimizer.step()\n",
    "        total_loss += loss.item()\n",
    "    return total_loss / len(loader)\n",
    "\n",
    "# Run training for multiple epochs\n",
    "for epoch in range(1, 101):\n",
    "    # Save timestamp\n",
    "    start = time.time()\n",
    "    loss = train()\n",
    "    if epoch % 10 == 0:\n",
    "        print(f'Epoch: {epoch:03d}, Loss: {loss:.4f}')\n",
    "    # Save timestamp\n",
    "    end = time.time()\n",
    "    \n",
    "    print(end - start)\n",
    "\n",
    "# Obtain the node embeddings\n",
    "node_embeddings = node2vec.embedding.weight.data\n",
    "\n",
    "print(\"Node Embeddings Shape:\", node_embeddings.shape)\n"
   ],
   "id": "736ecc99c3d65eaa",
   "outputs": [
    {
     "name": "stdout",
     "output_type": "stream",
     "text": [
      "112.99993205070496\n"
     ]
    }
   ],
   "execution_count": null
  },
  {
   "metadata": {
    "ExecuteTime": {
     "end_time": "2024-10-09T16:46:05.630865Z",
     "start_time": "2024-10-09T16:46:05.624768Z"
    }
   },
   "cell_type": "code",
   "source": "node_embeddings",
   "id": "e450e8c299278035",
   "outputs": [
    {
     "data": {
      "text/plain": [
       "tensor([[-0.1104,  0.1179, -0.0875],\n",
       "        [-0.0621,  0.1049, -0.2224],\n",
       "        [-0.0053,  0.1343, -0.0652],\n",
       "        ...,\n",
       "        [-0.1721,  0.1979, -0.1593],\n",
       "        [-0.1009,  0.2103, -0.1458],\n",
       "        [-0.2406,  0.1375, -0.0170]], device='cuda:0')"
      ]
     },
     "execution_count": 13,
     "metadata": {},
     "output_type": "execute_result"
    }
   ],
   "execution_count": 13
  },
  {
   "metadata": {
    "ExecuteTime": {
     "end_time": "2024-10-09T16:47:27.805686Z",
     "start_time": "2024-10-09T16:47:27.802374Z"
    }
   },
   "cell_type": "code",
   "source": [
    "node2vector_embedding_filepath = 'node2vector_embeddings.pt'\n",
    "torch.save(node_embeddings, node2vector_embedding_filepath)"
   ],
   "id": "1d5cba2c65ded4e2",
   "outputs": [],
   "execution_count": 14
  },
  {
   "metadata": {
    "ExecuteTime": {
     "end_time": "2024-10-09T17:32:45.655116Z",
     "start_time": "2024-10-09T17:24:00.554111Z"
    }
   },
   "cell_type": "code",
   "source": [
    "# Initialize the DeepWalk model by setting p and q to 1 (unbiased random walks)\n",
    "deepwalk = Node2Vec(\n",
    "    graph_data.edge_index,\n",
    "    embedding_dim=64,\n",
    "    walk_length=40,        # Longer walk length for DeepWalk\n",
    "    context_size=10,\n",
    "    walks_per_node=10,\n",
    "    sparse=True\n",
    ").to(device)\n",
    "\n",
    "# Define the optimizer\n",
    "optimizer = torch.optim.SparseAdam(list(deepwalk.parameters()), lr=0.01)\n",
    "\n",
    "# Training loop\n",
    "def train():\n",
    "    deepwalk.train()\n",
    "    total_loss = 0\n",
    "    loader = deepwalk.loader(batch_size=8, shuffle=True)\n",
    "    for pos_rw, neg_rw in loader:\n",
    "        pos_rw = pos_rw.to(device)\n",
    "        neg_rw = neg_rw.to(device)\n",
    "        \n",
    "        optimizer.zero_grad()\n",
    "        loss = deepwalk.loss(pos_rw, neg_rw)\n",
    "        loss.backward()\n",
    "        optimizer.step()\n",
    "        total_loss += loss.item()\n",
    "    return total_loss / len(loader)\n",
    "\n",
    "# Run training for multiple epochs\n",
    "for epoch in range(1, 101):\n",
    "    start = time.time()\n",
    "    loss = train()\n",
    "    if epoch % 10 == 0:\n",
    "        print(f'Epoch: {epoch:03d}, Loss: {loss:.4f}')\n",
    "        \n",
    "    # Save timestamp\n",
    "    end = time.time()\n",
    "    \n",
    "    print(end - start)\n",
    "\n",
    "# Obtain the node embeddings\n",
    "node_embeddings_deepwalk = deepwalk.embedding.weight.data\n",
    "\n",
    "print(\"Node Embeddings Shape:\", node_embeddings.shape)\n"
   ],
   "id": "2821ca37293a722a",
   "outputs": [
    {
     "name": "stdout",
     "output_type": "stream",
     "text": [
      "5.163858652114868\n",
      "5.252846002578735\n",
      "5.350556373596191\n",
      "5.3410985469818115\n",
      "5.288780689239502\n",
      "5.229307174682617\n",
      "5.213980436325073\n",
      "5.224516153335571\n",
      "5.2328200340271\n",
      "Epoch: 010, Loss: 0.7364\n",
      "5.233344316482544\n",
      "5.23323917388916\n",
      "5.200892925262451\n",
      "5.253555536270142\n",
      "5.340257167816162\n",
      "5.333372354507446\n",
      "5.201008081436157\n",
      "5.21733546257019\n",
      "5.264699935913086\n",
      "5.3019468784332275\n",
      "Epoch: 020, Loss: 0.7291\n",
      "5.2039642333984375\n",
      "5.20359992980957\n",
      "5.1994545459747314\n",
      "5.242571115493774\n",
      "5.2554755210876465\n",
      "5.207273721694946\n",
      "5.374294757843018\n",
      "5.247932195663452\n",
      "5.219162464141846\n",
      "5.22107720375061\n",
      "Epoch: 030, Loss: 0.7257\n",
      "5.250631809234619\n",
      "5.331761598587036\n",
      "5.212571144104004\n",
      "5.192092657089233\n",
      "5.237618684768677\n",
      "5.297112941741943\n",
      "5.334291934967041\n",
      "5.345263242721558\n",
      "5.226499319076538\n",
      "5.150882244110107\n",
      "Epoch: 040, Loss: 0.7246\n",
      "5.272575378417969\n",
      "5.39014196395874\n",
      "5.401442289352417\n",
      "5.345121383666992\n",
      "5.278644561767578\n",
      "5.278395414352417\n",
      "5.317960262298584\n",
      "5.405659914016724\n",
      "5.384824752807617\n",
      "5.3386406898498535\n",
      "Epoch: 050, Loss: 0.7244\n",
      "5.29507303237915\n",
      "5.185005187988281\n",
      "5.216541051864624\n",
      "5.301818132400513\n",
      "5.181148529052734\n",
      "5.201975584030151\n",
      "5.318163871765137\n",
      "5.374305963516235\n",
      "5.569860935211182\n",
      "6.067666053771973\n",
      "Epoch: 060, Loss: 0.7245\n",
      "5.599969863891602\n",
      "5.226696014404297\n",
      "5.2356977462768555\n",
      "5.171457767486572\n",
      "5.2380125522613525\n",
      "5.256726026535034\n",
      "5.32642126083374\n",
      "5.372936964035034\n",
      "5.084086656570435\n",
      "5.272839307785034\n",
      "Epoch: 070, Loss: 0.7246\n",
      "5.1606316566467285\n",
      "5.189598798751831\n",
      "5.133909225463867\n",
      "5.159633636474609\n",
      "5.197067975997925\n",
      "5.153735876083374\n",
      "5.174343824386597\n",
      "5.225531816482544\n",
      "5.149009704589844\n",
      "5.119892835617065\n",
      "Epoch: 080, Loss: 0.7247\n",
      "5.203072786331177\n",
      "5.071891784667969\n",
      "5.132928848266602\n",
      "5.143358945846558\n",
      "5.17477822303772\n",
      "5.174184322357178\n",
      "5.247424364089966\n",
      "5.175600528717041\n",
      "5.147013425827026\n",
      "5.2114152908325195\n",
      "Epoch: 090, Loss: 0.7243\n",
      "5.165413856506348\n",
      "5.1666364669799805\n",
      "5.227076530456543\n",
      "5.1646058559417725\n",
      "5.135945558547974\n",
      "5.114643573760986\n",
      "5.1450793743133545\n",
      "5.259726524353027\n",
      "5.188742637634277\n",
      "5.169551610946655\n",
      "Epoch: 100, Loss: 0.7242\n",
      "5.196943283081055\n",
      "Node Embeddings Shape: torch.Size([19129, 3])\n"
     ]
    }
   ],
   "execution_count": 19
  },
  {
   "metadata": {
    "ExecuteTime": {
     "end_time": "2024-10-09T16:50:51.977184Z",
     "start_time": "2024-10-09T16:50:51.971438Z"
    }
   },
   "cell_type": "code",
   "source": "node_embeddings_deepwalk",
   "id": "c618b7b4ef640b",
   "outputs": [
    {
     "data": {
      "text/plain": [
       "tensor([[ 0.1174, -0.0395, -0.0959,  ..., -0.0124, -0.1057,  0.1665],\n",
       "        [ 0.1506,  0.0084,  0.1439,  ..., -0.1527, -0.0970,  0.1060],\n",
       "        [-0.0003,  0.0802,  0.0756,  ...,  0.0113, -0.0057,  0.0005],\n",
       "        ...,\n",
       "        [-0.0594,  0.0526, -0.0823,  ...,  0.0192,  0.0278,  0.1358],\n",
       "        [-0.1261,  0.1444,  0.0894,  ..., -0.0533, -0.0411, -0.0324],\n",
       "        [ 0.2370, -0.0750, -0.0027,  ..., -0.0609,  0.0380, -0.0327]],\n",
       "       device='cuda:0')"
      ]
     },
     "execution_count": 16,
     "metadata": {},
     "output_type": "execute_result"
    }
   ],
   "execution_count": 16
  },
  {
   "metadata": {
    "ExecuteTime": {
     "end_time": "2024-10-09T17:20:14.948037Z",
     "start_time": "2024-10-09T17:20:14.944699Z"
    }
   },
   "cell_type": "code",
   "source": [
    "deepwalk_embedding_filepath = 'deepwalk_embeddings.pt'\n",
    "torch.save(node_embeddings, deepwalk_embedding_filepath)"
   ],
   "id": "9f810259faae551e",
   "outputs": [],
   "execution_count": 18
  },
  {
   "metadata": {},
   "cell_type": "code",
   "outputs": [],
   "execution_count": null,
   "source": "",
   "id": "a0dc2f17a8a44e51"
  }
 ],
 "metadata": {
  "kernelspec": {
   "display_name": "Python 3",
   "language": "python",
   "name": "python3"
  },
  "language_info": {
   "codemirror_mode": {
    "name": "ipython",
    "version": 2
   },
   "file_extension": ".py",
   "mimetype": "text/x-python",
   "name": "python",
   "nbconvert_exporter": "python",
   "pygments_lexer": "ipython2",
   "version": "2.7.6"
  }
 },
 "nbformat": 4,
 "nbformat_minor": 5
}
